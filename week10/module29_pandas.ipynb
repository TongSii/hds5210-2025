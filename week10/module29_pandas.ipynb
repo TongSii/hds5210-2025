{
  "cells": [
    {
      "cell_type": "markdown",
      "metadata": {
        "id": "view-in-github",
        "colab_type": "text"
      },
      "source": [
        "<a href=\"https://colab.research.google.com/github/TongSii/hds5210-2025/blob/main/week10/module29_pandas.ipynb\" target=\"_parent\"><img src=\"https://colab.research.google.com/assets/colab-badge.svg\" alt=\"Open In Colab\"/></a>"
      ]
    },
    {
      "cell_type": "markdown",
      "metadata": {
        "id": "nmNtXZy37Ovq"
      },
      "source": [
        "Use `%matplotlib notebook` to make plots interactive"
      ]
    },
    {
      "cell_type": "code",
      "execution_count": 1,
      "metadata": {
        "id": "Fg4JBwRy7Ovs"
      },
      "outputs": [],
      "source": [
        "%matplotlib inline"
      ]
    },
    {
      "cell_type": "markdown",
      "metadata": {
        "id": "DxykaQR87Ovt"
      },
      "source": [
        "Plotting from pandas\n",
        "---"
      ]
    },
    {
      "cell_type": "code",
      "execution_count": 2,
      "metadata": {
        "colab": {
          "base_uri": "https://localhost:8080/"
        },
        "id": "r9vwbe4l7Ovt",
        "outputId": "6be6d17a-fc13-4927-8440-ae280fcd2f96"
      },
      "outputs": [
        {
          "output_type": "execute_result",
          "data": {
            "text/plain": [
              "(8701, 22)"
            ]
          },
          "metadata": {},
          "execution_count": 2
        }
      ],
      "source": [
        "import pandas as pd\n",
        "data = pd.read_csv('flu_2016_2017.csv', quotechar='\"')\n",
        "data.shape"
      ]
    },
    {
      "cell_type": "code",
      "execution_count": 3,
      "metadata": {
        "colab": {
          "base_uri": "https://localhost:8080/",
          "height": 266
        },
        "id": "jfSp99bR7Ovt",
        "outputId": "fcd1cf83-9a98-412b-9378-5ece898177a6"
      },
      "outputs": [
        {
          "output_type": "execute_result",
          "data": {
            "text/plain": [
              "       Country                            WHOREGION      FLUREGION  Year  \\\n",
              "0  Afghanistan  Eastern Mediterranean Region of WHO  Southern Asia  2016   \n",
              "1  Afghanistan  Eastern Mediterranean Region of WHO  Southern Asia  2016   \n",
              "\n",
              "   Week       SDATE       EDATE  SPEC_RECEIVED_NB  SPEC_PROCESSED_NB  AH1  \\\n",
              "0     1  2016-01-04  2016-01-10              87.0               87.0  0.0   \n",
              "1     2  2016-01-11  2016-01-17              70.0               70.0  0.0   \n",
              "\n",
              "   ...  AH5  ANOTSUBTYPED  INF_A  BYAMAGATA  BVICTORIA  BNOTDETERMINED  INF_B  \\\n",
              "0  ...  0.0           2.0     13        0.0        0.0             0.0      0   \n",
              "1  ...  0.0           3.0      3        0.0        0.0             1.0      1   \n",
              "\n",
              "   ALL_INF  ALL_INF2     TITLE  \n",
              "0       13       NaN  Sporadic  \n",
              "1        4       NaN  Sporadic  \n",
              "\n",
              "[2 rows x 22 columns]"
            ],
            "text/html": [
              "\n",
              "  <div id=\"df-289c35f0-67fb-482c-8edf-1939347fe1c2\" class=\"colab-df-container\">\n",
              "    <div>\n",
              "<style scoped>\n",
              "    .dataframe tbody tr th:only-of-type {\n",
              "        vertical-align: middle;\n",
              "    }\n",
              "\n",
              "    .dataframe tbody tr th {\n",
              "        vertical-align: top;\n",
              "    }\n",
              "\n",
              "    .dataframe thead th {\n",
              "        text-align: right;\n",
              "    }\n",
              "</style>\n",
              "<table border=\"1\" class=\"dataframe\">\n",
              "  <thead>\n",
              "    <tr style=\"text-align: right;\">\n",
              "      <th></th>\n",
              "      <th>Country</th>\n",
              "      <th>WHOREGION</th>\n",
              "      <th>FLUREGION</th>\n",
              "      <th>Year</th>\n",
              "      <th>Week</th>\n",
              "      <th>SDATE</th>\n",
              "      <th>EDATE</th>\n",
              "      <th>SPEC_RECEIVED_NB</th>\n",
              "      <th>SPEC_PROCESSED_NB</th>\n",
              "      <th>AH1</th>\n",
              "      <th>...</th>\n",
              "      <th>AH5</th>\n",
              "      <th>ANOTSUBTYPED</th>\n",
              "      <th>INF_A</th>\n",
              "      <th>BYAMAGATA</th>\n",
              "      <th>BVICTORIA</th>\n",
              "      <th>BNOTDETERMINED</th>\n",
              "      <th>INF_B</th>\n",
              "      <th>ALL_INF</th>\n",
              "      <th>ALL_INF2</th>\n",
              "      <th>TITLE</th>\n",
              "    </tr>\n",
              "  </thead>\n",
              "  <tbody>\n",
              "    <tr>\n",
              "      <th>0</th>\n",
              "      <td>Afghanistan</td>\n",
              "      <td>Eastern Mediterranean Region of WHO</td>\n",
              "      <td>Southern Asia</td>\n",
              "      <td>2016</td>\n",
              "      <td>1</td>\n",
              "      <td>2016-01-04</td>\n",
              "      <td>2016-01-10</td>\n",
              "      <td>87.0</td>\n",
              "      <td>87.0</td>\n",
              "      <td>0.0</td>\n",
              "      <td>...</td>\n",
              "      <td>0.0</td>\n",
              "      <td>2.0</td>\n",
              "      <td>13</td>\n",
              "      <td>0.0</td>\n",
              "      <td>0.0</td>\n",
              "      <td>0.0</td>\n",
              "      <td>0</td>\n",
              "      <td>13</td>\n",
              "      <td>NaN</td>\n",
              "      <td>Sporadic</td>\n",
              "    </tr>\n",
              "    <tr>\n",
              "      <th>1</th>\n",
              "      <td>Afghanistan</td>\n",
              "      <td>Eastern Mediterranean Region of WHO</td>\n",
              "      <td>Southern Asia</td>\n",
              "      <td>2016</td>\n",
              "      <td>2</td>\n",
              "      <td>2016-01-11</td>\n",
              "      <td>2016-01-17</td>\n",
              "      <td>70.0</td>\n",
              "      <td>70.0</td>\n",
              "      <td>0.0</td>\n",
              "      <td>...</td>\n",
              "      <td>0.0</td>\n",
              "      <td>3.0</td>\n",
              "      <td>3</td>\n",
              "      <td>0.0</td>\n",
              "      <td>0.0</td>\n",
              "      <td>1.0</td>\n",
              "      <td>1</td>\n",
              "      <td>4</td>\n",
              "      <td>NaN</td>\n",
              "      <td>Sporadic</td>\n",
              "    </tr>\n",
              "  </tbody>\n",
              "</table>\n",
              "<p>2 rows × 22 columns</p>\n",
              "</div>\n",
              "    <div class=\"colab-df-buttons\">\n",
              "\n",
              "  <div class=\"colab-df-container\">\n",
              "    <button class=\"colab-df-convert\" onclick=\"convertToInteractive('df-289c35f0-67fb-482c-8edf-1939347fe1c2')\"\n",
              "            title=\"Convert this dataframe to an interactive table.\"\n",
              "            style=\"display:none;\">\n",
              "\n",
              "  <svg xmlns=\"http://www.w3.org/2000/svg\" height=\"24px\" viewBox=\"0 -960 960 960\">\n",
              "    <path d=\"M120-120v-720h720v720H120Zm60-500h600v-160H180v160Zm220 220h160v-160H400v160Zm0 220h160v-160H400v160ZM180-400h160v-160H180v160Zm440 0h160v-160H620v160ZM180-180h160v-160H180v160Zm440 0h160v-160H620v160Z\"/>\n",
              "  </svg>\n",
              "    </button>\n",
              "\n",
              "  <style>\n",
              "    .colab-df-container {\n",
              "      display:flex;\n",
              "      gap: 12px;\n",
              "    }\n",
              "\n",
              "    .colab-df-convert {\n",
              "      background-color: #E8F0FE;\n",
              "      border: none;\n",
              "      border-radius: 50%;\n",
              "      cursor: pointer;\n",
              "      display: none;\n",
              "      fill: #1967D2;\n",
              "      height: 32px;\n",
              "      padding: 0 0 0 0;\n",
              "      width: 32px;\n",
              "    }\n",
              "\n",
              "    .colab-df-convert:hover {\n",
              "      background-color: #E2EBFA;\n",
              "      box-shadow: 0px 1px 2px rgba(60, 64, 67, 0.3), 0px 1px 3px 1px rgba(60, 64, 67, 0.15);\n",
              "      fill: #174EA6;\n",
              "    }\n",
              "\n",
              "    .colab-df-buttons div {\n",
              "      margin-bottom: 4px;\n",
              "    }\n",
              "\n",
              "    [theme=dark] .colab-df-convert {\n",
              "      background-color: #3B4455;\n",
              "      fill: #D2E3FC;\n",
              "    }\n",
              "\n",
              "    [theme=dark] .colab-df-convert:hover {\n",
              "      background-color: #434B5C;\n",
              "      box-shadow: 0px 1px 3px 1px rgba(0, 0, 0, 0.15);\n",
              "      filter: drop-shadow(0px 1px 2px rgba(0, 0, 0, 0.3));\n",
              "      fill: #FFFFFF;\n",
              "    }\n",
              "  </style>\n",
              "\n",
              "    <script>\n",
              "      const buttonEl =\n",
              "        document.querySelector('#df-289c35f0-67fb-482c-8edf-1939347fe1c2 button.colab-df-convert');\n",
              "      buttonEl.style.display =\n",
              "        google.colab.kernel.accessAllowed ? 'block' : 'none';\n",
              "\n",
              "      async function convertToInteractive(key) {\n",
              "        const element = document.querySelector('#df-289c35f0-67fb-482c-8edf-1939347fe1c2');\n",
              "        const dataTable =\n",
              "          await google.colab.kernel.invokeFunction('convertToInteractive',\n",
              "                                                    [key], {});\n",
              "        if (!dataTable) return;\n",
              "\n",
              "        const docLinkHtml = 'Like what you see? Visit the ' +\n",
              "          '<a target=\"_blank\" href=https://colab.research.google.com/notebooks/data_table.ipynb>data table notebook</a>'\n",
              "          + ' to learn more about interactive tables.';\n",
              "        element.innerHTML = '';\n",
              "        dataTable['output_type'] = 'display_data';\n",
              "        await google.colab.output.renderOutput(dataTable, element);\n",
              "        const docLink = document.createElement('div');\n",
              "        docLink.innerHTML = docLinkHtml;\n",
              "        element.appendChild(docLink);\n",
              "      }\n",
              "    </script>\n",
              "  </div>\n",
              "\n",
              "\n",
              "    <div id=\"df-0ab0dd74-2d70-4954-bd21-db65e279735a\">\n",
              "      <button class=\"colab-df-quickchart\" onclick=\"quickchart('df-0ab0dd74-2d70-4954-bd21-db65e279735a')\"\n",
              "                title=\"Suggest charts\"\n",
              "                style=\"display:none;\">\n",
              "\n",
              "<svg xmlns=\"http://www.w3.org/2000/svg\" height=\"24px\"viewBox=\"0 0 24 24\"\n",
              "     width=\"24px\">\n",
              "    <g>\n",
              "        <path d=\"M19 3H5c-1.1 0-2 .9-2 2v14c0 1.1.9 2 2 2h14c1.1 0 2-.9 2-2V5c0-1.1-.9-2-2-2zM9 17H7v-7h2v7zm4 0h-2V7h2v10zm4 0h-2v-4h2v4z\"/>\n",
              "    </g>\n",
              "</svg>\n",
              "      </button>\n",
              "\n",
              "<style>\n",
              "  .colab-df-quickchart {\n",
              "      --bg-color: #E8F0FE;\n",
              "      --fill-color: #1967D2;\n",
              "      --hover-bg-color: #E2EBFA;\n",
              "      --hover-fill-color: #174EA6;\n",
              "      --disabled-fill-color: #AAA;\n",
              "      --disabled-bg-color: #DDD;\n",
              "  }\n",
              "\n",
              "  [theme=dark] .colab-df-quickchart {\n",
              "      --bg-color: #3B4455;\n",
              "      --fill-color: #D2E3FC;\n",
              "      --hover-bg-color: #434B5C;\n",
              "      --hover-fill-color: #FFFFFF;\n",
              "      --disabled-bg-color: #3B4455;\n",
              "      --disabled-fill-color: #666;\n",
              "  }\n",
              "\n",
              "  .colab-df-quickchart {\n",
              "    background-color: var(--bg-color);\n",
              "    border: none;\n",
              "    border-radius: 50%;\n",
              "    cursor: pointer;\n",
              "    display: none;\n",
              "    fill: var(--fill-color);\n",
              "    height: 32px;\n",
              "    padding: 0;\n",
              "    width: 32px;\n",
              "  }\n",
              "\n",
              "  .colab-df-quickchart:hover {\n",
              "    background-color: var(--hover-bg-color);\n",
              "    box-shadow: 0 1px 2px rgba(60, 64, 67, 0.3), 0 1px 3px 1px rgba(60, 64, 67, 0.15);\n",
              "    fill: var(--button-hover-fill-color);\n",
              "  }\n",
              "\n",
              "  .colab-df-quickchart-complete:disabled,\n",
              "  .colab-df-quickchart-complete:disabled:hover {\n",
              "    background-color: var(--disabled-bg-color);\n",
              "    fill: var(--disabled-fill-color);\n",
              "    box-shadow: none;\n",
              "  }\n",
              "\n",
              "  .colab-df-spinner {\n",
              "    border: 2px solid var(--fill-color);\n",
              "    border-color: transparent;\n",
              "    border-bottom-color: var(--fill-color);\n",
              "    animation:\n",
              "      spin 1s steps(1) infinite;\n",
              "  }\n",
              "\n",
              "  @keyframes spin {\n",
              "    0% {\n",
              "      border-color: transparent;\n",
              "      border-bottom-color: var(--fill-color);\n",
              "      border-left-color: var(--fill-color);\n",
              "    }\n",
              "    20% {\n",
              "      border-color: transparent;\n",
              "      border-left-color: var(--fill-color);\n",
              "      border-top-color: var(--fill-color);\n",
              "    }\n",
              "    30% {\n",
              "      border-color: transparent;\n",
              "      border-left-color: var(--fill-color);\n",
              "      border-top-color: var(--fill-color);\n",
              "      border-right-color: var(--fill-color);\n",
              "    }\n",
              "    40% {\n",
              "      border-color: transparent;\n",
              "      border-right-color: var(--fill-color);\n",
              "      border-top-color: var(--fill-color);\n",
              "    }\n",
              "    60% {\n",
              "      border-color: transparent;\n",
              "      border-right-color: var(--fill-color);\n",
              "    }\n",
              "    80% {\n",
              "      border-color: transparent;\n",
              "      border-right-color: var(--fill-color);\n",
              "      border-bottom-color: var(--fill-color);\n",
              "    }\n",
              "    90% {\n",
              "      border-color: transparent;\n",
              "      border-bottom-color: var(--fill-color);\n",
              "    }\n",
              "  }\n",
              "</style>\n",
              "\n",
              "      <script>\n",
              "        async function quickchart(key) {\n",
              "          const quickchartButtonEl =\n",
              "            document.querySelector('#' + key + ' button');\n",
              "          quickchartButtonEl.disabled = true;  // To prevent multiple clicks.\n",
              "          quickchartButtonEl.classList.add('colab-df-spinner');\n",
              "          try {\n",
              "            const charts = await google.colab.kernel.invokeFunction(\n",
              "                'suggestCharts', [key], {});\n",
              "          } catch (error) {\n",
              "            console.error('Error during call to suggestCharts:', error);\n",
              "          }\n",
              "          quickchartButtonEl.classList.remove('colab-df-spinner');\n",
              "          quickchartButtonEl.classList.add('colab-df-quickchart-complete');\n",
              "        }\n",
              "        (() => {\n",
              "          let quickchartButtonEl =\n",
              "            document.querySelector('#df-0ab0dd74-2d70-4954-bd21-db65e279735a button');\n",
              "          quickchartButtonEl.style.display =\n",
              "            google.colab.kernel.accessAllowed ? 'block' : 'none';\n",
              "        })();\n",
              "      </script>\n",
              "    </div>\n",
              "\n",
              "    </div>\n",
              "  </div>\n"
            ],
            "application/vnd.google.colaboratory.intrinsic+json": {
              "type": "dataframe"
            }
          },
          "metadata": {},
          "execution_count": 3
        }
      ],
      "source": [
        "data[0:2]"
      ]
    },
    {
      "cell_type": "code",
      "execution_count": 4,
      "metadata": {
        "id": "Lm5ajVg-7Ovt"
      },
      "outputs": [],
      "source": [
        "usa = data[\n",
        "    (data['Country'] == 'United States of America') &\n",
        "    (data['Year'] == 2016)\n",
        "]"
      ]
    },
    {
      "cell_type": "code",
      "execution_count": 5,
      "metadata": {
        "colab": {
          "base_uri": "https://localhost:8080/",
          "height": 933
        },
        "id": "0oLPxmgX7Ovt",
        "outputId": "8ffe24c3-afa5-4f5b-a32b-4b11f7c9b4fb"
      },
      "outputs": [
        {
          "output_type": "execute_result",
          "data": {
            "text/plain": [
              "                       Country                      WHOREGION      FLUREGION  \\\n",
              "8295  United States of America  Region of the Americas of WHO  North America   \n",
              "8296  United States of America  Region of the Americas of WHO  North America   \n",
              "8297  United States of America  Region of the Americas of WHO  North America   \n",
              "8298  United States of America  Region of the Americas of WHO  North America   \n",
              "8299  United States of America  Region of the Americas of WHO  North America   \n",
              "8300  United States of America  Region of the Americas of WHO  North America   \n",
              "8301  United States of America  Region of the Americas of WHO  North America   \n",
              "8302  United States of America  Region of the Americas of WHO  North America   \n",
              "8303  United States of America  Region of the Americas of WHO  North America   \n",
              "8304  United States of America  Region of the Americas of WHO  North America   \n",
              "\n",
              "      Year  Week       SDATE       EDATE  SPEC_RECEIVED_NB  SPEC_PROCESSED_NB  \\\n",
              "8295  2016     1  2016-01-04  2016-01-10           21578.0            21578.0   \n",
              "8296  2016     2  2016-01-11  2016-01-17           20415.0            20415.0   \n",
              "8297  2016     3  2016-01-18  2016-01-24           20701.0            20701.0   \n",
              "8298  2016     4  2016-01-25  2016-01-31           23301.0            23301.0   \n",
              "8299  2016     5  2016-02-01  2016-02-07           24925.0            24925.0   \n",
              "8300  2016     6  2016-02-08  2016-02-14           28055.0            28055.0   \n",
              "8301  2016     7  2016-02-15  2016-02-21           31036.0            31036.0   \n",
              "8302  2016     8  2016-02-22  2016-02-28           35463.0            35463.0   \n",
              "8303  2016     9  2016-02-29  2016-03-06           38488.0            38488.0   \n",
              "8304  2016    10  2016-03-07  2016-03-13           41810.0            41810.0   \n",
              "\n",
              "      AH1  ...  AH5  ANOTSUBTYPED  INF_A  BYAMAGATA  BVICTORIA  \\\n",
              "8295  0.0  ...  0.0         398.0    697       52.0       12.0   \n",
              "8296  0.0  ...  0.0         576.0    921       60.0       23.0   \n",
              "8297  0.0  ...  0.0         729.0   1189       83.0       25.0   \n",
              "8298  0.0  ...  0.0        1049.0   1734      104.0       28.0   \n",
              "8299  0.0  ...  0.0        1585.0   2428      143.0       62.0   \n",
              "8300  0.0  ...  0.0        2280.0   3407      206.0       71.0   \n",
              "8301  0.0  ...  0.0        3151.0   4747      309.0      103.0   \n",
              "8302  0.0  ...  0.0        4434.0   6337      383.0      156.0   \n",
              "8303  0.0  ...  0.0        5554.0   7753      347.0      143.0   \n",
              "8304  0.0  ...  0.0        6725.0   9211      333.0      162.0   \n",
              "\n",
              "      BNOTDETERMINED  INF_B  ALL_INF  ALL_INF2      TITLE  \n",
              "8295           198.0    262      959       0.0  No Report  \n",
              "8296           269.0    352     1273       0.0  No Report  \n",
              "8297           360.0    468     1657       0.0  No Report  \n",
              "8298           508.0    640     2374       0.0  No Report  \n",
              "8299           684.0    889     3317       0.0  No Report  \n",
              "8300          1020.0   1297     4704       0.0  No Report  \n",
              "8301          1271.0   1683     6430       0.0  No Report  \n",
              "8302          1486.0   2025     8362       0.0  No Report  \n",
              "8303          1836.0   2326    10079       0.0  No Report  \n",
              "8304          2264.0   2759    11970       0.0  No Report  \n",
              "\n",
              "[10 rows x 22 columns]"
            ],
            "text/html": [
              "\n",
              "  <div id=\"df-6c4f32f3-def7-4f28-83d2-41c106ca4302\" class=\"colab-df-container\">\n",
              "    <div>\n",
              "<style scoped>\n",
              "    .dataframe tbody tr th:only-of-type {\n",
              "        vertical-align: middle;\n",
              "    }\n",
              "\n",
              "    .dataframe tbody tr th {\n",
              "        vertical-align: top;\n",
              "    }\n",
              "\n",
              "    .dataframe thead th {\n",
              "        text-align: right;\n",
              "    }\n",
              "</style>\n",
              "<table border=\"1\" class=\"dataframe\">\n",
              "  <thead>\n",
              "    <tr style=\"text-align: right;\">\n",
              "      <th></th>\n",
              "      <th>Country</th>\n",
              "      <th>WHOREGION</th>\n",
              "      <th>FLUREGION</th>\n",
              "      <th>Year</th>\n",
              "      <th>Week</th>\n",
              "      <th>SDATE</th>\n",
              "      <th>EDATE</th>\n",
              "      <th>SPEC_RECEIVED_NB</th>\n",
              "      <th>SPEC_PROCESSED_NB</th>\n",
              "      <th>AH1</th>\n",
              "      <th>...</th>\n",
              "      <th>AH5</th>\n",
              "      <th>ANOTSUBTYPED</th>\n",
              "      <th>INF_A</th>\n",
              "      <th>BYAMAGATA</th>\n",
              "      <th>BVICTORIA</th>\n",
              "      <th>BNOTDETERMINED</th>\n",
              "      <th>INF_B</th>\n",
              "      <th>ALL_INF</th>\n",
              "      <th>ALL_INF2</th>\n",
              "      <th>TITLE</th>\n",
              "    </tr>\n",
              "  </thead>\n",
              "  <tbody>\n",
              "    <tr>\n",
              "      <th>8295</th>\n",
              "      <td>United States of America</td>\n",
              "      <td>Region of the Americas of WHO</td>\n",
              "      <td>North America</td>\n",
              "      <td>2016</td>\n",
              "      <td>1</td>\n",
              "      <td>2016-01-04</td>\n",
              "      <td>2016-01-10</td>\n",
              "      <td>21578.0</td>\n",
              "      <td>21578.0</td>\n",
              "      <td>0.0</td>\n",
              "      <td>...</td>\n",
              "      <td>0.0</td>\n",
              "      <td>398.0</td>\n",
              "      <td>697</td>\n",
              "      <td>52.0</td>\n",
              "      <td>12.0</td>\n",
              "      <td>198.0</td>\n",
              "      <td>262</td>\n",
              "      <td>959</td>\n",
              "      <td>0.0</td>\n",
              "      <td>No Report</td>\n",
              "    </tr>\n",
              "    <tr>\n",
              "      <th>8296</th>\n",
              "      <td>United States of America</td>\n",
              "      <td>Region of the Americas of WHO</td>\n",
              "      <td>North America</td>\n",
              "      <td>2016</td>\n",
              "      <td>2</td>\n",
              "      <td>2016-01-11</td>\n",
              "      <td>2016-01-17</td>\n",
              "      <td>20415.0</td>\n",
              "      <td>20415.0</td>\n",
              "      <td>0.0</td>\n",
              "      <td>...</td>\n",
              "      <td>0.0</td>\n",
              "      <td>576.0</td>\n",
              "      <td>921</td>\n",
              "      <td>60.0</td>\n",
              "      <td>23.0</td>\n",
              "      <td>269.0</td>\n",
              "      <td>352</td>\n",
              "      <td>1273</td>\n",
              "      <td>0.0</td>\n",
              "      <td>No Report</td>\n",
              "    </tr>\n",
              "    <tr>\n",
              "      <th>8297</th>\n",
              "      <td>United States of America</td>\n",
              "      <td>Region of the Americas of WHO</td>\n",
              "      <td>North America</td>\n",
              "      <td>2016</td>\n",
              "      <td>3</td>\n",
              "      <td>2016-01-18</td>\n",
              "      <td>2016-01-24</td>\n",
              "      <td>20701.0</td>\n",
              "      <td>20701.0</td>\n",
              "      <td>0.0</td>\n",
              "      <td>...</td>\n",
              "      <td>0.0</td>\n",
              "      <td>729.0</td>\n",
              "      <td>1189</td>\n",
              "      <td>83.0</td>\n",
              "      <td>25.0</td>\n",
              "      <td>360.0</td>\n",
              "      <td>468</td>\n",
              "      <td>1657</td>\n",
              "      <td>0.0</td>\n",
              "      <td>No Report</td>\n",
              "    </tr>\n",
              "    <tr>\n",
              "      <th>8298</th>\n",
              "      <td>United States of America</td>\n",
              "      <td>Region of the Americas of WHO</td>\n",
              "      <td>North America</td>\n",
              "      <td>2016</td>\n",
              "      <td>4</td>\n",
              "      <td>2016-01-25</td>\n",
              "      <td>2016-01-31</td>\n",
              "      <td>23301.0</td>\n",
              "      <td>23301.0</td>\n",
              "      <td>0.0</td>\n",
              "      <td>...</td>\n",
              "      <td>0.0</td>\n",
              "      <td>1049.0</td>\n",
              "      <td>1734</td>\n",
              "      <td>104.0</td>\n",
              "      <td>28.0</td>\n",
              "      <td>508.0</td>\n",
              "      <td>640</td>\n",
              "      <td>2374</td>\n",
              "      <td>0.0</td>\n",
              "      <td>No Report</td>\n",
              "    </tr>\n",
              "    <tr>\n",
              "      <th>8299</th>\n",
              "      <td>United States of America</td>\n",
              "      <td>Region of the Americas of WHO</td>\n",
              "      <td>North America</td>\n",
              "      <td>2016</td>\n",
              "      <td>5</td>\n",
              "      <td>2016-02-01</td>\n",
              "      <td>2016-02-07</td>\n",
              "      <td>24925.0</td>\n",
              "      <td>24925.0</td>\n",
              "      <td>0.0</td>\n",
              "      <td>...</td>\n",
              "      <td>0.0</td>\n",
              "      <td>1585.0</td>\n",
              "      <td>2428</td>\n",
              "      <td>143.0</td>\n",
              "      <td>62.0</td>\n",
              "      <td>684.0</td>\n",
              "      <td>889</td>\n",
              "      <td>3317</td>\n",
              "      <td>0.0</td>\n",
              "      <td>No Report</td>\n",
              "    </tr>\n",
              "    <tr>\n",
              "      <th>8300</th>\n",
              "      <td>United States of America</td>\n",
              "      <td>Region of the Americas of WHO</td>\n",
              "      <td>North America</td>\n",
              "      <td>2016</td>\n",
              "      <td>6</td>\n",
              "      <td>2016-02-08</td>\n",
              "      <td>2016-02-14</td>\n",
              "      <td>28055.0</td>\n",
              "      <td>28055.0</td>\n",
              "      <td>0.0</td>\n",
              "      <td>...</td>\n",
              "      <td>0.0</td>\n",
              "      <td>2280.0</td>\n",
              "      <td>3407</td>\n",
              "      <td>206.0</td>\n",
              "      <td>71.0</td>\n",
              "      <td>1020.0</td>\n",
              "      <td>1297</td>\n",
              "      <td>4704</td>\n",
              "      <td>0.0</td>\n",
              "      <td>No Report</td>\n",
              "    </tr>\n",
              "    <tr>\n",
              "      <th>8301</th>\n",
              "      <td>United States of America</td>\n",
              "      <td>Region of the Americas of WHO</td>\n",
              "      <td>North America</td>\n",
              "      <td>2016</td>\n",
              "      <td>7</td>\n",
              "      <td>2016-02-15</td>\n",
              "      <td>2016-02-21</td>\n",
              "      <td>31036.0</td>\n",
              "      <td>31036.0</td>\n",
              "      <td>0.0</td>\n",
              "      <td>...</td>\n",
              "      <td>0.0</td>\n",
              "      <td>3151.0</td>\n",
              "      <td>4747</td>\n",
              "      <td>309.0</td>\n",
              "      <td>103.0</td>\n",
              "      <td>1271.0</td>\n",
              "      <td>1683</td>\n",
              "      <td>6430</td>\n",
              "      <td>0.0</td>\n",
              "      <td>No Report</td>\n",
              "    </tr>\n",
              "    <tr>\n",
              "      <th>8302</th>\n",
              "      <td>United States of America</td>\n",
              "      <td>Region of the Americas of WHO</td>\n",
              "      <td>North America</td>\n",
              "      <td>2016</td>\n",
              "      <td>8</td>\n",
              "      <td>2016-02-22</td>\n",
              "      <td>2016-02-28</td>\n",
              "      <td>35463.0</td>\n",
              "      <td>35463.0</td>\n",
              "      <td>0.0</td>\n",
              "      <td>...</td>\n",
              "      <td>0.0</td>\n",
              "      <td>4434.0</td>\n",
              "      <td>6337</td>\n",
              "      <td>383.0</td>\n",
              "      <td>156.0</td>\n",
              "      <td>1486.0</td>\n",
              "      <td>2025</td>\n",
              "      <td>8362</td>\n",
              "      <td>0.0</td>\n",
              "      <td>No Report</td>\n",
              "    </tr>\n",
              "    <tr>\n",
              "      <th>8303</th>\n",
              "      <td>United States of America</td>\n",
              "      <td>Region of the Americas of WHO</td>\n",
              "      <td>North America</td>\n",
              "      <td>2016</td>\n",
              "      <td>9</td>\n",
              "      <td>2016-02-29</td>\n",
              "      <td>2016-03-06</td>\n",
              "      <td>38488.0</td>\n",
              "      <td>38488.0</td>\n",
              "      <td>0.0</td>\n",
              "      <td>...</td>\n",
              "      <td>0.0</td>\n",
              "      <td>5554.0</td>\n",
              "      <td>7753</td>\n",
              "      <td>347.0</td>\n",
              "      <td>143.0</td>\n",
              "      <td>1836.0</td>\n",
              "      <td>2326</td>\n",
              "      <td>10079</td>\n",
              "      <td>0.0</td>\n",
              "      <td>No Report</td>\n",
              "    </tr>\n",
              "    <tr>\n",
              "      <th>8304</th>\n",
              "      <td>United States of America</td>\n",
              "      <td>Region of the Americas of WHO</td>\n",
              "      <td>North America</td>\n",
              "      <td>2016</td>\n",
              "      <td>10</td>\n",
              "      <td>2016-03-07</td>\n",
              "      <td>2016-03-13</td>\n",
              "      <td>41810.0</td>\n",
              "      <td>41810.0</td>\n",
              "      <td>0.0</td>\n",
              "      <td>...</td>\n",
              "      <td>0.0</td>\n",
              "      <td>6725.0</td>\n",
              "      <td>9211</td>\n",
              "      <td>333.0</td>\n",
              "      <td>162.0</td>\n",
              "      <td>2264.0</td>\n",
              "      <td>2759</td>\n",
              "      <td>11970</td>\n",
              "      <td>0.0</td>\n",
              "      <td>No Report</td>\n",
              "    </tr>\n",
              "  </tbody>\n",
              "</table>\n",
              "<p>10 rows × 22 columns</p>\n",
              "</div>\n",
              "    <div class=\"colab-df-buttons\">\n",
              "\n",
              "  <div class=\"colab-df-container\">\n",
              "    <button class=\"colab-df-convert\" onclick=\"convertToInteractive('df-6c4f32f3-def7-4f28-83d2-41c106ca4302')\"\n",
              "            title=\"Convert this dataframe to an interactive table.\"\n",
              "            style=\"display:none;\">\n",
              "\n",
              "  <svg xmlns=\"http://www.w3.org/2000/svg\" height=\"24px\" viewBox=\"0 -960 960 960\">\n",
              "    <path d=\"M120-120v-720h720v720H120Zm60-500h600v-160H180v160Zm220 220h160v-160H400v160Zm0 220h160v-160H400v160ZM180-400h160v-160H180v160Zm440 0h160v-160H620v160ZM180-180h160v-160H180v160Zm440 0h160v-160H620v160Z\"/>\n",
              "  </svg>\n",
              "    </button>\n",
              "\n",
              "  <style>\n",
              "    .colab-df-container {\n",
              "      display:flex;\n",
              "      gap: 12px;\n",
              "    }\n",
              "\n",
              "    .colab-df-convert {\n",
              "      background-color: #E8F0FE;\n",
              "      border: none;\n",
              "      border-radius: 50%;\n",
              "      cursor: pointer;\n",
              "      display: none;\n",
              "      fill: #1967D2;\n",
              "      height: 32px;\n",
              "      padding: 0 0 0 0;\n",
              "      width: 32px;\n",
              "    }\n",
              "\n",
              "    .colab-df-convert:hover {\n",
              "      background-color: #E2EBFA;\n",
              "      box-shadow: 0px 1px 2px rgba(60, 64, 67, 0.3), 0px 1px 3px 1px rgba(60, 64, 67, 0.15);\n",
              "      fill: #174EA6;\n",
              "    }\n",
              "\n",
              "    .colab-df-buttons div {\n",
              "      margin-bottom: 4px;\n",
              "    }\n",
              "\n",
              "    [theme=dark] .colab-df-convert {\n",
              "      background-color: #3B4455;\n",
              "      fill: #D2E3FC;\n",
              "    }\n",
              "\n",
              "    [theme=dark] .colab-df-convert:hover {\n",
              "      background-color: #434B5C;\n",
              "      box-shadow: 0px 1px 3px 1px rgba(0, 0, 0, 0.15);\n",
              "      filter: drop-shadow(0px 1px 2px rgba(0, 0, 0, 0.3));\n",
              "      fill: #FFFFFF;\n",
              "    }\n",
              "  </style>\n",
              "\n",
              "    <script>\n",
              "      const buttonEl =\n",
              "        document.querySelector('#df-6c4f32f3-def7-4f28-83d2-41c106ca4302 button.colab-df-convert');\n",
              "      buttonEl.style.display =\n",
              "        google.colab.kernel.accessAllowed ? 'block' : 'none';\n",
              "\n",
              "      async function convertToInteractive(key) {\n",
              "        const element = document.querySelector('#df-6c4f32f3-def7-4f28-83d2-41c106ca4302');\n",
              "        const dataTable =\n",
              "          await google.colab.kernel.invokeFunction('convertToInteractive',\n",
              "                                                    [key], {});\n",
              "        if (!dataTable) return;\n",
              "\n",
              "        const docLinkHtml = 'Like what you see? Visit the ' +\n",
              "          '<a target=\"_blank\" href=https://colab.research.google.com/notebooks/data_table.ipynb>data table notebook</a>'\n",
              "          + ' to learn more about interactive tables.';\n",
              "        element.innerHTML = '';\n",
              "        dataTable['output_type'] = 'display_data';\n",
              "        await google.colab.output.renderOutput(dataTable, element);\n",
              "        const docLink = document.createElement('div');\n",
              "        docLink.innerHTML = docLinkHtml;\n",
              "        element.appendChild(docLink);\n",
              "      }\n",
              "    </script>\n",
              "  </div>\n",
              "\n",
              "\n",
              "    <div id=\"df-b9b73cc8-8bf1-4e14-88dc-34e5a4f791fe\">\n",
              "      <button class=\"colab-df-quickchart\" onclick=\"quickchart('df-b9b73cc8-8bf1-4e14-88dc-34e5a4f791fe')\"\n",
              "                title=\"Suggest charts\"\n",
              "                style=\"display:none;\">\n",
              "\n",
              "<svg xmlns=\"http://www.w3.org/2000/svg\" height=\"24px\"viewBox=\"0 0 24 24\"\n",
              "     width=\"24px\">\n",
              "    <g>\n",
              "        <path d=\"M19 3H5c-1.1 0-2 .9-2 2v14c0 1.1.9 2 2 2h14c1.1 0 2-.9 2-2V5c0-1.1-.9-2-2-2zM9 17H7v-7h2v7zm4 0h-2V7h2v10zm4 0h-2v-4h2v4z\"/>\n",
              "    </g>\n",
              "</svg>\n",
              "      </button>\n",
              "\n",
              "<style>\n",
              "  .colab-df-quickchart {\n",
              "      --bg-color: #E8F0FE;\n",
              "      --fill-color: #1967D2;\n",
              "      --hover-bg-color: #E2EBFA;\n",
              "      --hover-fill-color: #174EA6;\n",
              "      --disabled-fill-color: #AAA;\n",
              "      --disabled-bg-color: #DDD;\n",
              "  }\n",
              "\n",
              "  [theme=dark] .colab-df-quickchart {\n",
              "      --bg-color: #3B4455;\n",
              "      --fill-color: #D2E3FC;\n",
              "      --hover-bg-color: #434B5C;\n",
              "      --hover-fill-color: #FFFFFF;\n",
              "      --disabled-bg-color: #3B4455;\n",
              "      --disabled-fill-color: #666;\n",
              "  }\n",
              "\n",
              "  .colab-df-quickchart {\n",
              "    background-color: var(--bg-color);\n",
              "    border: none;\n",
              "    border-radius: 50%;\n",
              "    cursor: pointer;\n",
              "    display: none;\n",
              "    fill: var(--fill-color);\n",
              "    height: 32px;\n",
              "    padding: 0;\n",
              "    width: 32px;\n",
              "  }\n",
              "\n",
              "  .colab-df-quickchart:hover {\n",
              "    background-color: var(--hover-bg-color);\n",
              "    box-shadow: 0 1px 2px rgba(60, 64, 67, 0.3), 0 1px 3px 1px rgba(60, 64, 67, 0.15);\n",
              "    fill: var(--button-hover-fill-color);\n",
              "  }\n",
              "\n",
              "  .colab-df-quickchart-complete:disabled,\n",
              "  .colab-df-quickchart-complete:disabled:hover {\n",
              "    background-color: var(--disabled-bg-color);\n",
              "    fill: var(--disabled-fill-color);\n",
              "    box-shadow: none;\n",
              "  }\n",
              "\n",
              "  .colab-df-spinner {\n",
              "    border: 2px solid var(--fill-color);\n",
              "    border-color: transparent;\n",
              "    border-bottom-color: var(--fill-color);\n",
              "    animation:\n",
              "      spin 1s steps(1) infinite;\n",
              "  }\n",
              "\n",
              "  @keyframes spin {\n",
              "    0% {\n",
              "      border-color: transparent;\n",
              "      border-bottom-color: var(--fill-color);\n",
              "      border-left-color: var(--fill-color);\n",
              "    }\n",
              "    20% {\n",
              "      border-color: transparent;\n",
              "      border-left-color: var(--fill-color);\n",
              "      border-top-color: var(--fill-color);\n",
              "    }\n",
              "    30% {\n",
              "      border-color: transparent;\n",
              "      border-left-color: var(--fill-color);\n",
              "      border-top-color: var(--fill-color);\n",
              "      border-right-color: var(--fill-color);\n",
              "    }\n",
              "    40% {\n",
              "      border-color: transparent;\n",
              "      border-right-color: var(--fill-color);\n",
              "      border-top-color: var(--fill-color);\n",
              "    }\n",
              "    60% {\n",
              "      border-color: transparent;\n",
              "      border-right-color: var(--fill-color);\n",
              "    }\n",
              "    80% {\n",
              "      border-color: transparent;\n",
              "      border-right-color: var(--fill-color);\n",
              "      border-bottom-color: var(--fill-color);\n",
              "    }\n",
              "    90% {\n",
              "      border-color: transparent;\n",
              "      border-bottom-color: var(--fill-color);\n",
              "    }\n",
              "  }\n",
              "</style>\n",
              "\n",
              "      <script>\n",
              "        async function quickchart(key) {\n",
              "          const quickchartButtonEl =\n",
              "            document.querySelector('#' + key + ' button');\n",
              "          quickchartButtonEl.disabled = true;  // To prevent multiple clicks.\n",
              "          quickchartButtonEl.classList.add('colab-df-spinner');\n",
              "          try {\n",
              "            const charts = await google.colab.kernel.invokeFunction(\n",
              "                'suggestCharts', [key], {});\n",
              "          } catch (error) {\n",
              "            console.error('Error during call to suggestCharts:', error);\n",
              "          }\n",
              "          quickchartButtonEl.classList.remove('colab-df-spinner');\n",
              "          quickchartButtonEl.classList.add('colab-df-quickchart-complete');\n",
              "        }\n",
              "        (() => {\n",
              "          let quickchartButtonEl =\n",
              "            document.querySelector('#df-b9b73cc8-8bf1-4e14-88dc-34e5a4f791fe button');\n",
              "          quickchartButtonEl.style.display =\n",
              "            google.colab.kernel.accessAllowed ? 'block' : 'none';\n",
              "        })();\n",
              "      </script>\n",
              "    </div>\n",
              "\n",
              "    </div>\n",
              "  </div>\n"
            ],
            "application/vnd.google.colaboratory.intrinsic+json": {
              "type": "dataframe"
            }
          },
          "metadata": {},
          "execution_count": 5
        }
      ],
      "source": [
        "usa[0:10]"
      ]
    },
    {
      "cell_type": "markdown",
      "metadata": {
        "id": "wgEiDgh37Ovt"
      },
      "source": [
        "---\n",
        "\n",
        "Histogram\n",
        "---\n",
        "\n",
        "Plot a histogram of the number of Influenza B cases per week"
      ]
    },
    {
      "cell_type": "code",
      "execution_count": null,
      "metadata": {
        "id": "gaNXZjs37Ovu"
      },
      "outputs": [],
      "source": [
        "usa['INF_B'].hist()"
      ]
    },
    {
      "cell_type": "code",
      "execution_count": 6,
      "metadata": {
        "colab": {
          "base_uri": "https://localhost:8080/",
          "height": 447
        },
        "id": "iJyEBC8u7Ovu",
        "outputId": "7713bbbb-8835-42b4-b1ed-5c951d0273a0"
      },
      "outputs": [
        {
          "output_type": "execute_result",
          "data": {
            "text/plain": [
              "<Axes: ylabel='Density'>"
            ]
          },
          "metadata": {},
          "execution_count": 6
        },
        {
          "output_type": "display_data",
          "data": {
            "text/plain": [
              "<Figure size 640x480 with 1 Axes>"
            ],
            "image/png": "[encoded data removed]"
          },
          "metadata": {}
        }
      ],
      "source": [
        "usa['INF_B'].plot.kde()#distribution curve"
      ]
    },
    {
      "cell_type": "code",
      "execution_count": 7,
      "metadata": {
        "colab": {
          "base_uri": "https://localhost:8080/",
          "height": 521
        },
        "id": "mDXq8vJ07Ovu",
        "outputId": "8ced603d-f9e0-4ffb-c846-dd5017e75993"
      },
      "outputs": [
        {
          "output_type": "execute_result",
          "data": {
            "text/plain": [
              "array([[<Axes: title={'center': 'INF_B'}>,\n",
              "        <Axes: title={'center': 'INF_A'}>],\n",
              "       [<Axes: title={'center': 'SPEC_RECEIVED_NB'}>, <Axes: >]],\n",
              "      dtype=object)"
            ]
          },
          "metadata": {},
          "execution_count": 7
        },
        {
          "output_type": "display_data",
          "data": {
            "text/plain": [
              "<Figure size 640x480 with 4 Axes>"
            ],
            "image/png": "[encoded data removed]"
          },
          "metadata": {}
        }
      ],
      "source": [
        "usa[['INF_B','INF_A','SPEC_RECEIVED_NB']].hist(bins=10)\n"
      ]
    },
    {
      "cell_type": "code",
      "execution_count": 8,
      "metadata": {
        "colab": {
          "base_uri": "https://localhost:8080/",
          "height": 447
        },
        "id": "E8PtQYI67Ovu",
        "outputId": "277a18bf-4ca4-4c46-82f2-5787547ddace"
      },
      "outputs": [
        {
          "output_type": "execute_result",
          "data": {
            "text/plain": [
              "<matplotlib.legend.Legend at 0x7bb70f4455e0>"
            ]
          },
          "metadata": {},
          "execution_count": 8
        },
        {
          "output_type": "display_data",
          "data": {
            "text/plain": [
              "<Figure size 640x480 with 1 Axes>"
            ],
            "image/png": "[encoded data removed]"
          },
          "metadata": {}
        }
      ],
      "source": [
        "import matplotlib.pyplot as plt\n",
        "\n",
        "usa_history = data[(data['Country'] == 'United States of America')]\n",
        "usa_history.groupby(['Year'])['INF_A'].plot.kde()\n",
        "plt.legend()"
      ]
    },
    {
      "cell_type": "code",
      "execution_count": null,
      "metadata": {
        "id": "HKFJ_Op47Ovu"
      },
      "outputs": [],
      "source": []
    },
    {
      "cell_type": "markdown",
      "metadata": {
        "id": "fMU6e-vl__cA"
      },
      "source": [
        "---\n",
        "\n",
        "Scatter Plot\n",
        "---\n",
        "\n",
        "Use a scatter plot to see if there are some possible relationship"
      ]
    },
    {
      "cell_type": "code",
      "execution_count": 9,
      "metadata": {
        "id": "WU4V3fM4__cA",
        "colab": {
          "base_uri": "https://localhost:8080/",
          "height": 466
        },
        "outputId": "3df2669e-1ddc-4a26-e2ab-7566a92a8a68"
      },
      "outputs": [
        {
          "output_type": "execute_result",
          "data": {
            "text/plain": [
              "Text(0.5, 0, 'Specimens Received')"
            ]
          },
          "metadata": {},
          "execution_count": 9
        },
        {
          "output_type": "display_data",
          "data": {
            "text/plain": [
              "<Figure size 640x480 with 1 Axes>"
            ],
            "image/png": "[encoded data removed]"
          },
          "metadata": {}
        }
      ],
      "source": [
        "axes = usa.plot.scatter(x='SPEC_RECEIVED_NB', y='INF_A', color='DarkRed', label='Influeza A')\n",
        "axes.set_ylabel('Positive Cases')\n",
        "axes.set_xlabel('Specimens Received')"
      ]
    },
    {
      "cell_type": "code",
      "execution_count": null,
      "metadata": {
        "id": "dnlJOWrA__cA"
      },
      "outputs": [],
      "source": [
        "axes = usa.plot.scatter(x='SPEC_RECEIVED_NB', y='INF_B', color='DarkBlue', label='Influeza B')\n",
        "axes.set_ylabel('Positive Cases')\n",
        "axes.set_xlabel('Specimens Received')"
      ]
    },
    {
      "cell_type": "code",
      "execution_count": 10,
      "metadata": {
        "id": "4adr82va__cA",
        "colab": {
          "base_uri": "https://localhost:8080/",
          "height": 466
        },
        "outputId": "97719c4a-7671-47f2-a642-9e65995adc9c"
      },
      "outputs": [
        {
          "output_type": "execute_result",
          "data": {
            "text/plain": [
              "Text(0.5, 0, 'Specimens Received')"
            ]
          },
          "metadata": {},
          "execution_count": 10
        },
        {
          "output_type": "display_data",
          "data": {
            "text/plain": [
              "<Figure size 640x480 with 1 Axes>"
            ],
            "image/png": "[encoded data removed]"
          },
          "metadata": {}
        }
      ],
      "source": [
        "axes = usa.plot.scatter(x='SPEC_RECEIVED_NB', y='INF_A', color='DarkRed', label='Influeza A')\n",
        "axes = usa.plot.scatter(x='SPEC_RECEIVED_NB', y='INF_B', color='DarkBlue', label='Influenza B', ax=axes)\n",
        "axes.set_ylabel('Positive Cases')\n",
        "axes.set_xlabel('Specimens Received')"
      ]
    },
    {
      "cell_type": "code",
      "execution_count": null,
      "metadata": {
        "id": "-ViJdCu1__cB"
      },
      "outputs": [],
      "source": []
    },
    {
      "cell_type": "code",
      "execution_count": 11,
      "metadata": {
        "id": "hF8qf3mr__cB",
        "colab": {
          "base_uri": "https://localhost:8080/",
          "height": 466
        },
        "outputId": "e73b16e7-2fae-4b85-a58d-184206ea1ac4"
      },
      "outputs": [
        {
          "output_type": "execute_result",
          "data": {
            "text/plain": [
              "Text(0.5, 0, 'Specimens Received')"
            ]
          },
          "metadata": {},
          "execution_count": 11
        },
        {
          "output_type": "display_data",
          "data": {
            "text/plain": [
              "<Figure size 640x480 with 1 Axes>"
            ],
            "image/png": "[encoded data removed]"
          },
          "metadata": {}
        }
      ],
      "source": [
        "import seaborn as sns\n",
        "\n",
        "ax = sns.regplot(data=usa, x='SPEC_RECEIVED_NB', y='INF_A', order=2, label='Flu A')\n",
        "sns.regplot(data=usa, x='SPEC_RECEIVED_NB', y='INF_B', label='Flu B', ax=ax)\n",
        "ax.legend()\n",
        "ax.set_ylabel('Positive Cases')\n",
        "ax.set_xlabel('Specimens Received')"
      ]
    },
    {
      "cell_type": "code",
      "execution_count": 12,
      "metadata": {
        "id": "M7HFZjGE__cB",
        "colab": {
          "base_uri": "https://localhost:8080/",
          "height": 607
        },
        "outputId": "988a4d08-dfc8-40b8-a431-04bf6ff97a5a"
      },
      "outputs": [
        {
          "output_type": "display_data",
          "data": {
            "text/plain": [
              "<Figure size 600x600 with 3 Axes>"
            ],
            "image/png": "[encoded data removed]"
          },
          "metadata": {}
        }
      ],
      "source": [
        "import seaborn as sns\n",
        "ax = sns.jointplot(data=usa, x='SPEC_RECEIVED_NB', y='INF_B')\n"
      ]
    },
    {
      "cell_type": "markdown",
      "metadata": {
        "id": "IjeoW2iA__cB"
      },
      "source": [
        "---\n",
        "\n",
        "See if there are always a similar ratio of type A to type B cases of influenza"
      ]
    },
    {
      "cell_type": "code",
      "execution_count": 13,
      "metadata": {
        "id": "zK39JWBz__cB",
        "colab": {
          "base_uri": "https://localhost:8080/",
          "height": 449
        },
        "outputId": "47835a2e-2b3c-4a8f-be71-38c997d4981d"
      },
      "outputs": [
        {
          "output_type": "display_data",
          "data": {
            "text/plain": [
              "<Figure size 640x480 with 1 Axes>"
            ],
            "image/png": "[encoded data removed]"
          },
          "metadata": {}
        }
      ],
      "source": [
        "ax = usa.plot.scatter(x='INF_A', y='INF_B')"
      ]
    },
    {
      "cell_type": "markdown",
      "source": [
        "**Bar Chart**"
      ],
      "metadata": {
        "id": "3VoyJ5nLBMja"
      }
    },
    {
      "cell_type": "code",
      "execution_count": null,
      "metadata": {
        "id": "GwH_RYBa7Ovu"
      },
      "outputs": [],
      "source": []
    },
    {
      "cell_type": "markdown",
      "metadata": {
        "id": "0i6_6dg4BJBL"
      },
      "source": [
        "Plotting from pandas\n",
        "---"
      ]
    },
    {
      "cell_type": "code",
      "execution_count": null,
      "metadata": {
        "id": "pGFLmpEWBJBL",
        "outputId": "1f89ece5-9d24-4a8d-8682-942177cea239"
      },
      "outputs": [
        {
          "data": {
            "text/plain": [
              "array(['Afghanistan', 'Albania', 'Algeria', 'Argentina', 'Armenia',\n",
              "       'Australia', 'Austria', 'Bahrain', 'Bangladesh', 'Barbados',\n",
              "       'Belarus', 'Belgium', 'Belize', 'Bhutan',\n",
              "       'Bolivia (Plurinational State of)', 'Bosnia and Herzegovina',\n",
              "       'Brazil', 'Bulgaria', 'Burkina Faso', 'Cambodia', 'Cameroon',\n",
              "       'Canada', 'Central African Republic', 'Chile', 'China', 'Colombia',\n",
              "       'Costa Rica', 'Croatia', 'Cuba', 'Czechia',\n",
              "       'Democratic Republic of the Congo', 'Denmark',\n",
              "       'Dominican Republic', 'Ecuador', 'Egypt', 'El Salvador', 'Estonia',\n",
              "       'Ethiopia', 'Fiji', 'Finland', 'France', 'French Guiana',\n",
              "       'Georgia', 'Germany', 'Ghana', 'Greece', 'Guadeloupe', 'Guatemala',\n",
              "       'Haiti', 'Honduras', 'Hungary', 'Iceland', 'India', 'Indonesia',\n",
              "       'Iran (Islamic Republic of)', 'Iraq', 'Ireland', 'Israel', 'Italy',\n",
              "       'Jamaica', 'Japan', 'Jordan', 'Kazakhstan', 'Kenya',\n",
              "       'Kosovo (in accordance with Security Council resolution 1244 (1999))',\n",
              "       'Kyrgyzstan', 'Latvia', 'Lebanon', 'Lithuania', 'Luxembourg',\n",
              "       'Madagascar', 'Malaysia', 'Maldives', 'Mali', 'Malta',\n",
              "       'Martinique', 'Mauritania', 'Mauritius', 'Mexico', 'Mongolia',\n",
              "       'Montenegro', 'Morocco', 'Mozambique', 'Myanmar', 'Nepal',\n",
              "       'Netherlands', 'New Caledonia', 'New Zealand', 'Nicaragua',\n",
              "       'Niger', 'Nigeria', 'Norway', 'Oman', 'Pakistan', 'Panama',\n",
              "       'Papua New Guinea', 'Paraguay', 'Peru', 'Philippines', 'Poland',\n",
              "       'Portugal', 'Qatar', 'Republic of Korea', 'Republic of Moldova',\n",
              "       'Romania', 'Russian Federation', 'Rwanda', 'Senegal', 'Serbia',\n",
              "       'Sierra Leone', 'Singapore', 'Slovakia', 'Slovenia',\n",
              "       'South Africa', 'Spain', 'Sri Lanka', 'Suriname', 'Sweden',\n",
              "       'Switzerland', 'Thailand',\n",
              "       'The former Yugoslav Republic of Macedonia', 'Togo', 'Tunisia',\n",
              "       'Turkey', 'Turkmenistan', 'Uganda', 'Ukraine',\n",
              "       'United Kingdom of Great Britain and Northern Ireland',\n",
              "       'United Republic of Tanzania', 'United States of America',\n",
              "       'Uruguay', 'Uzbekistan', 'Venezuela (Bolivarian Republic of)',\n",
              "       'Viet Nam', 'Zambia'], dtype=object)"
            ]
          },
          "execution_count": 2,
          "metadata": {},
          "output_type": "execute_result"
        }
      ],
      "source": [
        "data['Country'].unique()"
      ]
    },
    {
      "cell_type": "code",
      "execution_count": null,
      "metadata": {
        "id": "ZFOcUGw-BJBM",
        "outputId": "23e7a57b-f810-4c02-e9d7-fe5771581328"
      },
      "outputs": [
        {
          "data": {
            "text/plain": [
              "array(['Southern Asia', 'South West Europe', 'Northern Africa',\n",
              "       'Temperate South America', 'Western Asia',\n",
              "       'Oceania Melanesia Polynesia', 'Central America and Caribbean',\n",
              "       'Eastern Europe', 'Tropical South America', 'Western Africa',\n",
              "       'South-East Asia', 'Middle Africa', 'North America',\n",
              "       'Eastern Asia', 'Northern Europe', 'Eastern Africa',\n",
              "       'Central Asia', 'Southern Africa'], dtype=object)"
            ]
          },
          "execution_count": 3,
          "metadata": {},
          "output_type": "execute_result"
        }
      ],
      "source": [
        "data['FLUREGION'].unique()"
      ]
    },
    {
      "cell_type": "code",
      "execution_count": 14,
      "metadata": {
        "id": "1uIjvbLXBJBM",
        "outputId": "723e5fc5-e0e5-41c6-9dde-437d91edb868",
        "colab": {
          "base_uri": "https://localhost:8080/"
        }
      },
      "outputs": [
        {
          "output_type": "execute_result",
          "data": {
            "text/plain": [
              "(208, 22)"
            ]
          },
          "metadata": {},
          "execution_count": 14
        }
      ],
      "source": [
        "region = data[(data['FLUREGION'] == 'Temperate South America') &\n",
        "           (data['Year'] == 2016)]\n",
        "region.shape"
      ]
    },
    {
      "cell_type": "code",
      "execution_count": null,
      "metadata": {
        "id": "ee1vTIPnBJBM",
        "outputId": "1a4e4e28-77c7-4297-ff54-fcc87b77930d"
      },
      "outputs": [
        {
          "data": {
            "text/html": [
              "<div>\n",
              "<style scoped>\n",
              "    .dataframe tbody tr th:only-of-type {\n",
              "        vertical-align: middle;\n",
              "    }\n",
              "\n",
              "    .dataframe tbody tr th {\n",
              "        vertical-align: top;\n",
              "    }\n",
              "\n",
              "    .dataframe thead th {\n",
              "        text-align: right;\n",
              "    }\n",
              "</style>\n",
              "<table border=\"1\" class=\"dataframe\">\n",
              "  <thead>\n",
              "    <tr style=\"text-align: right;\">\n",
              "      <th></th>\n",
              "      <th>Country</th>\n",
              "      <th>WHOREGION</th>\n",
              "      <th>FLUREGION</th>\n",
              "      <th>Year</th>\n",
              "      <th>Week</th>\n",
              "      <th>SDATE</th>\n",
              "      <th>EDATE</th>\n",
              "      <th>SPEC_RECEIVED_NB</th>\n",
              "      <th>SPEC_PROCESSED_NB</th>\n",
              "      <th>AH1</th>\n",
              "      <th>...</th>\n",
              "      <th>AH5</th>\n",
              "      <th>ANOTSUBTYPED</th>\n",
              "      <th>INF_A</th>\n",
              "      <th>BYAMAGATA</th>\n",
              "      <th>BVICTORIA</th>\n",
              "      <th>BNOTDETERMINED</th>\n",
              "      <th>INF_B</th>\n",
              "      <th>ALL_INF</th>\n",
              "      <th>ALL_INF2</th>\n",
              "      <th>TITLE</th>\n",
              "    </tr>\n",
              "  </thead>\n",
              "  <tbody>\n",
              "    <tr>\n",
              "      <th>123</th>\n",
              "      <td>Argentina</td>\n",
              "      <td>Region of the Americas of WHO</td>\n",
              "      <td>Temperate South America</td>\n",
              "      <td>2016</td>\n",
              "      <td>1</td>\n",
              "      <td>2016-01-04</td>\n",
              "      <td>2016-01-10</td>\n",
              "      <td>7.0</td>\n",
              "      <td>467.0</td>\n",
              "      <td>0.0</td>\n",
              "      <td>...</td>\n",
              "      <td>0.0</td>\n",
              "      <td>0.0</td>\n",
              "      <td>1</td>\n",
              "      <td>0.0</td>\n",
              "      <td>4.0</td>\n",
              "      <td>5.0</td>\n",
              "      <td>9</td>\n",
              "      <td>10</td>\n",
              "      <td>419.0</td>\n",
              "      <td>No Activity</td>\n",
              "    </tr>\n",
              "    <tr>\n",
              "      <th>124</th>\n",
              "      <td>Argentina</td>\n",
              "      <td>Region of the Americas of WHO</td>\n",
              "      <td>Temperate South America</td>\n",
              "      <td>2016</td>\n",
              "      <td>2</td>\n",
              "      <td>2016-01-11</td>\n",
              "      <td>2016-01-17</td>\n",
              "      <td>5.0</td>\n",
              "      <td>402.0</td>\n",
              "      <td>0.0</td>\n",
              "      <td>...</td>\n",
              "      <td>0.0</td>\n",
              "      <td>1.0</td>\n",
              "      <td>2</td>\n",
              "      <td>0.0</td>\n",
              "      <td>1.0</td>\n",
              "      <td>1.0</td>\n",
              "      <td>2</td>\n",
              "      <td>4</td>\n",
              "      <td>362.0</td>\n",
              "      <td>No Activity</td>\n",
              "    </tr>\n",
              "    <tr>\n",
              "      <th>125</th>\n",
              "      <td>Argentina</td>\n",
              "      <td>Region of the Americas of WHO</td>\n",
              "      <td>Temperate South America</td>\n",
              "      <td>2016</td>\n",
              "      <td>3</td>\n",
              "      <td>2016-01-18</td>\n",
              "      <td>2016-01-24</td>\n",
              "      <td>1.0</td>\n",
              "      <td>412.0</td>\n",
              "      <td>0.0</td>\n",
              "      <td>...</td>\n",
              "      <td>0.0</td>\n",
              "      <td>3.0</td>\n",
              "      <td>4</td>\n",
              "      <td>0.0</td>\n",
              "      <td>1.0</td>\n",
              "      <td>0.0</td>\n",
              "      <td>1</td>\n",
              "      <td>5</td>\n",
              "      <td>370.0</td>\n",
              "      <td>No Activity</td>\n",
              "    </tr>\n",
              "    <tr>\n",
              "      <th>126</th>\n",
              "      <td>Argentina</td>\n",
              "      <td>Region of the Americas of WHO</td>\n",
              "      <td>Temperate South America</td>\n",
              "      <td>2016</td>\n",
              "      <td>4</td>\n",
              "      <td>2016-01-25</td>\n",
              "      <td>2016-01-31</td>\n",
              "      <td>1.0</td>\n",
              "      <td>388.0</td>\n",
              "      <td>0.0</td>\n",
              "      <td>...</td>\n",
              "      <td>0.0</td>\n",
              "      <td>1.0</td>\n",
              "      <td>4</td>\n",
              "      <td>0.0</td>\n",
              "      <td>0.0</td>\n",
              "      <td>1.0</td>\n",
              "      <td>1</td>\n",
              "      <td>5</td>\n",
              "      <td>347.0</td>\n",
              "      <td>No Activity</td>\n",
              "    </tr>\n",
              "    <tr>\n",
              "      <th>127</th>\n",
              "      <td>Argentina</td>\n",
              "      <td>Region of the Americas of WHO</td>\n",
              "      <td>Temperate South America</td>\n",
              "      <td>2016</td>\n",
              "      <td>5</td>\n",
              "      <td>2016-02-01</td>\n",
              "      <td>2016-02-07</td>\n",
              "      <td>3.0</td>\n",
              "      <td>385.0</td>\n",
              "      <td>0.0</td>\n",
              "      <td>...</td>\n",
              "      <td>0.0</td>\n",
              "      <td>4.0</td>\n",
              "      <td>4</td>\n",
              "      <td>0.0</td>\n",
              "      <td>0.0</td>\n",
              "      <td>0.0</td>\n",
              "      <td>0</td>\n",
              "      <td>4</td>\n",
              "      <td>338.0</td>\n",
              "      <td>No Activity</td>\n",
              "    </tr>\n",
              "    <tr>\n",
              "      <th>128</th>\n",
              "      <td>Argentina</td>\n",
              "      <td>Region of the Americas of WHO</td>\n",
              "      <td>Temperate South America</td>\n",
              "      <td>2016</td>\n",
              "      <td>6</td>\n",
              "      <td>2016-02-08</td>\n",
              "      <td>2016-02-14</td>\n",
              "      <td>1.0</td>\n",
              "      <td>296.0</td>\n",
              "      <td>0.0</td>\n",
              "      <td>...</td>\n",
              "      <td>0.0</td>\n",
              "      <td>1.0</td>\n",
              "      <td>4</td>\n",
              "      <td>0.0</td>\n",
              "      <td>0.0</td>\n",
              "      <td>0.0</td>\n",
              "      <td>0</td>\n",
              "      <td>4</td>\n",
              "      <td>264.0</td>\n",
              "      <td>No Activity</td>\n",
              "    </tr>\n",
              "    <tr>\n",
              "      <th>129</th>\n",
              "      <td>Argentina</td>\n",
              "      <td>Region of the Americas of WHO</td>\n",
              "      <td>Temperate South America</td>\n",
              "      <td>2016</td>\n",
              "      <td>7</td>\n",
              "      <td>2016-02-15</td>\n",
              "      <td>2016-02-21</td>\n",
              "      <td>2.0</td>\n",
              "      <td>376.0</td>\n",
              "      <td>0.0</td>\n",
              "      <td>...</td>\n",
              "      <td>0.0</td>\n",
              "      <td>2.0</td>\n",
              "      <td>5</td>\n",
              "      <td>1.0</td>\n",
              "      <td>0.0</td>\n",
              "      <td>1.0</td>\n",
              "      <td>2</td>\n",
              "      <td>7</td>\n",
              "      <td>344.0</td>\n",
              "      <td>No Activity</td>\n",
              "    </tr>\n",
              "    <tr>\n",
              "      <th>130</th>\n",
              "      <td>Argentina</td>\n",
              "      <td>Region of the Americas of WHO</td>\n",
              "      <td>Temperate South America</td>\n",
              "      <td>2016</td>\n",
              "      <td>8</td>\n",
              "      <td>2016-02-22</td>\n",
              "      <td>2016-02-28</td>\n",
              "      <td>2.0</td>\n",
              "      <td>380.0</td>\n",
              "      <td>0.0</td>\n",
              "      <td>...</td>\n",
              "      <td>0.0</td>\n",
              "      <td>1.0</td>\n",
              "      <td>5</td>\n",
              "      <td>0.0</td>\n",
              "      <td>1.0</td>\n",
              "      <td>2.0</td>\n",
              "      <td>3</td>\n",
              "      <td>8</td>\n",
              "      <td>333.0</td>\n",
              "      <td>No Activity</td>\n",
              "    </tr>\n",
              "    <tr>\n",
              "      <th>131</th>\n",
              "      <td>Argentina</td>\n",
              "      <td>Region of the Americas of WHO</td>\n",
              "      <td>Temperate South America</td>\n",
              "      <td>2016</td>\n",
              "      <td>9</td>\n",
              "      <td>2016-02-29</td>\n",
              "      <td>2016-03-06</td>\n",
              "      <td>2.0</td>\n",
              "      <td>444.0</td>\n",
              "      <td>0.0</td>\n",
              "      <td>...</td>\n",
              "      <td>0.0</td>\n",
              "      <td>1.0</td>\n",
              "      <td>5</td>\n",
              "      <td>0.0</td>\n",
              "      <td>0.0</td>\n",
              "      <td>0.0</td>\n",
              "      <td>0</td>\n",
              "      <td>5</td>\n",
              "      <td>374.0</td>\n",
              "      <td>Sporadic</td>\n",
              "    </tr>\n",
              "    <tr>\n",
              "      <th>132</th>\n",
              "      <td>Argentina</td>\n",
              "      <td>Region of the Americas of WHO</td>\n",
              "      <td>Temperate South America</td>\n",
              "      <td>2016</td>\n",
              "      <td>10</td>\n",
              "      <td>2016-03-07</td>\n",
              "      <td>2016-03-13</td>\n",
              "      <td>1.0</td>\n",
              "      <td>561.0</td>\n",
              "      <td>0.0</td>\n",
              "      <td>...</td>\n",
              "      <td>0.0</td>\n",
              "      <td>4.0</td>\n",
              "      <td>14</td>\n",
              "      <td>1.0</td>\n",
              "      <td>1.0</td>\n",
              "      <td>1.0</td>\n",
              "      <td>3</td>\n",
              "      <td>17</td>\n",
              "      <td>464.0</td>\n",
              "      <td>Local Outbreak</td>\n",
              "    </tr>\n",
              "  </tbody>\n",
              "</table>\n",
              "<p>10 rows × 22 columns</p>\n",
              "</div>"
            ],
            "text/plain": [
              "       Country                      WHOREGION                FLUREGION  Year  \\\n",
              "123  Argentina  Region of the Americas of WHO  Temperate South America  2016   \n",
              "124  Argentina  Region of the Americas of WHO  Temperate South America  2016   \n",
              "125  Argentina  Region of the Americas of WHO  Temperate South America  2016   \n",
              "126  Argentina  Region of the Americas of WHO  Temperate South America  2016   \n",
              "127  Argentina  Region of the Americas of WHO  Temperate South America  2016   \n",
              "128  Argentina  Region of the Americas of WHO  Temperate South America  2016   \n",
              "129  Argentina  Region of the Americas of WHO  Temperate South America  2016   \n",
              "130  Argentina  Region of the Americas of WHO  Temperate South America  2016   \n",
              "131  Argentina  Region of the Americas of WHO  Temperate South America  2016   \n",
              "132  Argentina  Region of the Americas of WHO  Temperate South America  2016   \n",
              "\n",
              "     Week       SDATE       EDATE  SPEC_RECEIVED_NB  SPEC_PROCESSED_NB  AH1  \\\n",
              "123     1  2016-01-04  2016-01-10               7.0              467.0  0.0   \n",
              "124     2  2016-01-11  2016-01-17               5.0              402.0  0.0   \n",
              "125     3  2016-01-18  2016-01-24               1.0              412.0  0.0   \n",
              "126     4  2016-01-25  2016-01-31               1.0              388.0  0.0   \n",
              "127     5  2016-02-01  2016-02-07               3.0              385.0  0.0   \n",
              "128     6  2016-02-08  2016-02-14               1.0              296.0  0.0   \n",
              "129     7  2016-02-15  2016-02-21               2.0              376.0  0.0   \n",
              "130     8  2016-02-22  2016-02-28               2.0              380.0  0.0   \n",
              "131     9  2016-02-29  2016-03-06               2.0              444.0  0.0   \n",
              "132    10  2016-03-07  2016-03-13               1.0              561.0  0.0   \n",
              "\n",
              "     ...  AH5  ANOTSUBTYPED  INF_A  BYAMAGATA  BVICTORIA  BNOTDETERMINED  \\\n",
              "123  ...  0.0           0.0      1        0.0        4.0             5.0   \n",
              "124  ...  0.0           1.0      2        0.0        1.0             1.0   \n",
              "125  ...  0.0           3.0      4        0.0        1.0             0.0   \n",
              "126  ...  0.0           1.0      4        0.0        0.0             1.0   \n",
              "127  ...  0.0           4.0      4        0.0        0.0             0.0   \n",
              "128  ...  0.0           1.0      4        0.0        0.0             0.0   \n",
              "129  ...  0.0           2.0      5        1.0        0.0             1.0   \n",
              "130  ...  0.0           1.0      5        0.0        1.0             2.0   \n",
              "131  ...  0.0           1.0      5        0.0        0.0             0.0   \n",
              "132  ...  0.0           4.0     14        1.0        1.0             1.0   \n",
              "\n",
              "     INF_B  ALL_INF  ALL_INF2           TITLE  \n",
              "123      9       10     419.0     No Activity  \n",
              "124      2        4     362.0     No Activity  \n",
              "125      1        5     370.0     No Activity  \n",
              "126      1        5     347.0     No Activity  \n",
              "127      0        4     338.0     No Activity  \n",
              "128      0        4     264.0     No Activity  \n",
              "129      2        7     344.0     No Activity  \n",
              "130      3        8     333.0     No Activity  \n",
              "131      0        5     374.0        Sporadic  \n",
              "132      3       17     464.0  Local Outbreak  \n",
              "\n",
              "[10 rows x 22 columns]"
            ]
          },
          "execution_count": 5,
          "metadata": {},
          "output_type": "execute_result"
        }
      ],
      "source": [
        "region[0:10]"
      ]
    },
    {
      "cell_type": "code",
      "execution_count": 15,
      "metadata": {
        "id": "ZpS-VRGUBJBM",
        "outputId": "401ce9d0-c4a4-4935-c6da-751009c52800",
        "colab": {
          "base_uri": "https://localhost:8080/"
        }
      },
      "outputs": [
        {
          "output_type": "execute_result",
          "data": {
            "text/plain": [
              "array(['Argentina', 'Chile', 'Paraguay', 'Uruguay'], dtype=object)"
            ]
          },
          "metadata": {},
          "execution_count": 15
        }
      ],
      "source": [
        "region['Country'].unique()"
      ]
    },
    {
      "cell_type": "code",
      "execution_count": 16,
      "metadata": {
        "id": "Df1EtU5iBJBM",
        "outputId": "c774f4f1-89ad-472f-ba45-cc8931fa5d67",
        "colab": {
          "base_uri": "https://localhost:8080/",
          "height": 466
        }
      },
      "outputs": [
        {
          "output_type": "execute_result",
          "data": {
            "text/plain": [
              "<Axes: xlabel='Country', ylabel='INF_A'>"
            ]
          },
          "metadata": {},
          "execution_count": 16
        },
        {
          "output_type": "display_data",
          "data": {
            "text/plain": [
              "<Figure size 640x480 with 1 Axes>"
            ],
            "image/png": "[encoded data removed]"
          },
          "metadata": {}
        }
      ],
      "source": [
        "sns.barplot(x='Country', y='INF_A', data=region)"
      ]
    },
    {
      "cell_type": "code",
      "execution_count": 18,
      "metadata": {
        "id": "n9vd2qZQBJBM",
        "outputId": "3f577222-5994-4c72-8183-894932430ffb",
        "colab": {
          "base_uri": "https://localhost:8080/",
          "height": 660
        }
      },
      "outputs": [
        {
          "output_type": "stream",
          "name": "stderr",
          "text": [
            "/tmp/ipython-input-3431802330.py:1: FutureWarning: \n",
            "\n",
            "The `ci` parameter is deprecated. Use `errorbar=None` for the same effect.\n",
            "\n",
            "  sns.barplot(x='Country', y='INF_A', data=region, estimator=sum, ci=None,palette='pastel')\n",
            "/tmp/ipython-input-3431802330.py:1: FutureWarning: \n",
            "\n",
            "Passing `palette` without assigning `hue` is deprecated and will be removed in v0.14.0. Assign the `x` variable to `hue` and set `legend=False` for the same effect.\n",
            "\n",
            "  sns.barplot(x='Country', y='INF_A', data=region, estimator=sum, ci=None,palette='pastel')\n"
          ]
        },
        {
          "output_type": "execute_result",
          "data": {
            "text/plain": [
              "<Axes: xlabel='Country', ylabel='INF_A'>"
            ]
          },
          "metadata": {},
          "execution_count": 18
        },
        {
          "output_type": "display_data",
          "data": {
            "text/plain": [
              "<Figure size 640x480 with 1 Axes>"
            ],
            "image/png": "[encoded data removed]"
          },
          "metadata": {}
        }
      ],
      "source": [
        "sns.barplot(x='Country', y='INF_A', data=region, estimator=sum, ci=None,palette='pastel')"
      ]
    },
    {
      "cell_type": "code",
      "source": [],
      "metadata": {
        "id": "z0uoDq9gCj-R"
      },
      "execution_count": null,
      "outputs": []
    }
  ],
  "metadata": {
    "kernelspec": {
      "display_name": "Python 3",
      "language": "python",
      "name": "python3"
    },
    "language_info": {
      "codemirror_mode": {
        "name": "ipython",
        "version": 3
      },
      "file_extension": ".py",
      "mimetype": "text/x-python",
      "name": "python",
      "nbconvert_exporter": "python",
      "pygments_lexer": "ipython3",
      "version": "3.6.7"
    },
    "colab": {
      "provenance": [],
      "include_colab_link": true
    }
  },
  "nbformat": 4,
  "nbformat_minor": 0
}