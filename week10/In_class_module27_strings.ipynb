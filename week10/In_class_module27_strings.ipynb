{
  "cells": [
    {
      "cell_type": "markdown",
      "metadata": {
        "id": "view-in-github",
        "colab_type": "text"
      },
      "source": [
        "<a href=\"https://colab.research.google.com/github/TongSii/hds5210-2025/blob/main/week10/In_class_module27_strings.ipynb\" target=\"_parent\"><img src=\"https://colab.research.google.com/assets/colab-badge.svg\" alt=\"Open In Colab\"/></a>"
      ]
    },
    {
      "cell_type": "markdown",
      "metadata": {
        "id": "aGNI3bjls6Jy"
      },
      "source": [
        "# Text\n",
        "\n",
        "The objective for this part of the lecture is to explain how Python represents strings and how they can be used.\n",
        "\n",
        "* What is a string\n",
        "* How to manipulate and parse strings\n",
        "* Printing out strings"
      ]
    },
    {
      "cell_type": "code",
      "execution_count": 12,
      "metadata": {
        "id": "_8lRmgv8s6Jz",
        "outputId": "f5ca3840-1b42-4aa4-d638-05a7a1f10512",
        "colab": {
          "base_uri": "https://localhost:8080/",
          "height": 35
        }
      },
      "outputs": [
        {
          "output_type": "execute_result",
          "data": {
            "text/plain": [
              "'Dr. Si'"
            ],
            "application/vnd.google.colaboratory.intrinsic+json": {
              "type": "string"
            }
          },
          "metadata": {},
          "execution_count": 12
        }
      ],
      "source": [
        "\"Dr. Si\""
      ]
    },
    {
      "cell_type": "code",
      "execution_count": 13,
      "metadata": {
        "id": "g2FOHED0s6J0",
        "outputId": "871d24c5-f907-41bd-d5f9-da0677358960",
        "colab": {
          "base_uri": "https://localhost:8080/",
          "height": 35
        }
      },
      "outputs": [
        {
          "output_type": "execute_result",
          "data": {
            "text/plain": [
              "'Dr. Si'"
            ],
            "application/vnd.google.colaboratory.intrinsic+json": {
              "type": "string"
            }
          },
          "metadata": {},
          "execution_count": 13
        }
      ],
      "source": [
        "dr='Dr. Si'\n",
        "dr"
      ]
    },
    {
      "cell_type": "code",
      "execution_count": 14,
      "metadata": {
        "id": "1biQrjOes6J1"
      },
      "outputs": [],
      "source": [
        "'Dr. Si' + 1"
      ]
    },
    {
      "cell_type": "code",
      "execution_count": 15,
      "metadata": {
        "id": "rxTGYhefs6J1",
        "outputId": "fdd490c2-f90d-4513-cffd-f9d122780738",
        "colab": {
          "base_uri": "https://localhost:8080/",
          "height": 35
        }
      },
      "outputs": [
        {
          "output_type": "execute_result",
          "data": {
            "text/plain": [
              "'Dr. Si1'"
            ],
            "application/vnd.google.colaboratory.intrinsic+json": {
              "type": "string"
            }
          },
          "metadata": {},
          "execution_count": 15
        }
      ],
      "source": [
        "'Dr. Si' + str(1)"
      ]
    },
    {
      "cell_type": "code",
      "execution_count": 16,
      "metadata": {
        "id": "Di-Il1Ews6J1",
        "outputId": "f00db4bb-3aef-46aa-9fc7-5c02c8cd7b76",
        "colab": {
          "base_uri": "https://localhost:8080/",
          "height": 35
        }
      },
      "outputs": [
        {
          "output_type": "execute_result",
          "data": {
            "text/plain": [
              "'Dr. Si and cats'"
            ],
            "application/vnd.google.colaboratory.intrinsic+json": {
              "type": "string"
            }
          },
          "metadata": {},
          "execution_count": 16
        }
      ],
      "source": [
        "'Dr. Si' + ' and cats'"
      ]
    },
    {
      "cell_type": "code",
      "execution_count": 17,
      "metadata": {
        "id": "NgRKEhrCs6J1",
        "outputId": "9eeb1c40-85fd-40f8-adad-f0f272dfe557",
        "colab": {
          "base_uri": "https://localhost:8080/",
          "height": 35
        }
      },
      "outputs": [
        {
          "output_type": "execute_result",
          "data": {
            "text/plain": [
              "\"Dr. Si's cats\""
            ],
            "application/vnd.google.colaboratory.intrinsic+json": {
              "type": "string"
            }
          },
          "metadata": {},
          "execution_count": 17
        }
      ],
      "source": [
        "'Dr. Si\\'s cats' #skip character"
      ]
    },
    {
      "cell_type": "code",
      "execution_count": 18,
      "metadata": {
        "id": "-bCoEjV_s6J1",
        "outputId": "81848e1d-7920-44b1-f4e7-e93a16ba94fb",
        "colab": {
          "base_uri": "https://localhost:8080/",
          "height": 35
        }
      },
      "outputs": [
        {
          "output_type": "execute_result",
          "data": {
            "text/plain": [
              "\"Dr. Si's cats\""
            ],
            "application/vnd.google.colaboratory.intrinsic+json": {
              "type": "string"
            }
          },
          "metadata": {},
          "execution_count": 18
        }
      ],
      "source": [
        "\"Dr. Si's cats\""
      ]
    },
    {
      "cell_type": "code",
      "execution_count": 19,
      "metadata": {
        "id": "wDWglQxAs6J1",
        "outputId": "ff82df04-5a7e-43c0-ecfa-c8219cd606fb",
        "colab": {
          "base_uri": "https://localhost:8080/"
        }
      },
      "outputs": [
        {
          "output_type": "execute_result",
          "data": {
            "text/plain": [
              "6"
            ]
          },
          "metadata": {},
          "execution_count": 19
        }
      ],
      "source": [
        "len('Dr. Si')"
      ]
    },
    {
      "cell_type": "code",
      "execution_count": 20,
      "metadata": {
        "id": "g7EkGRqMs6J1",
        "outputId": "bef3e592-e2e4-4997-aa85-38d10baca43e",
        "colab": {
          "base_uri": "https://localhost:8080/"
        }
      },
      "outputs": [
        {
          "output_type": "execute_result",
          "data": {
            "text/plain": [
              "13"
            ]
          },
          "metadata": {},
          "execution_count": 20
        }
      ],
      "source": [
        "len('Dr. Si\\'s cats') #skip character is not count"
      ]
    },
    {
      "cell_type": "code",
      "execution_count": 21,
      "metadata": {
        "id": "BTaztgbts6J1",
        "outputId": "ec45addd-96b2-4f5d-ecd1-38d2035f4355",
        "colab": {
          "base_uri": "https://localhost:8080/"
        }
      },
      "outputs": [
        {
          "output_type": "execute_result",
          "data": {
            "text/plain": [
              "13"
            ]
          },
          "metadata": {},
          "execution_count": 21
        }
      ],
      "source": [
        "len(\"Dr. Si's cats\")"
      ]
    },
    {
      "cell_type": "code",
      "execution_count": 22,
      "metadata": {
        "id": "NRSVA7Mds6J2"
      },
      "outputs": [],
      "source": [
        "dr = 'Dr. Si\\'s \"cats'"
      ]
    },
    {
      "cell_type": "code",
      "execution_count": 23,
      "metadata": {
        "id": "x-tKFAZNs6J2",
        "outputId": "33719152-3cfc-41c5-e7fc-26afbb787ba7",
        "colab": {
          "base_uri": "https://localhost:8080/",
          "height": 35
        }
      },
      "outputs": [
        {
          "output_type": "execute_result",
          "data": {
            "text/plain": [
              "'Dr. Si\\'s \"cats'"
            ],
            "application/vnd.google.colaboratory.intrinsic+json": {
              "type": "string"
            }
          },
          "metadata": {},
          "execution_count": 23
        }
      ],
      "source": [
        "dr"
      ]
    },
    {
      "cell_type": "code",
      "execution_count": 24,
      "metadata": {
        "id": "qAQpVpgWs6J2",
        "outputId": "11a79d3d-2334-4c21-879f-33dffaab71b0",
        "colab": {
          "base_uri": "https://localhost:8080/",
          "height": 35
        }
      },
      "outputs": [
        {
          "output_type": "execute_result",
          "data": {
            "text/plain": [
              "'Dr. Si\\'s \"cats\"'"
            ],
            "application/vnd.google.colaboratory.intrinsic+json": {
              "type": "string"
            }
          },
          "metadata": {},
          "execution_count": 24
        }
      ],
      "source": [
        "\"Dr. Si's \\\"cats\\\"\""
      ]
    },
    {
      "cell_type": "code",
      "execution_count": 25,
      "metadata": {
        "id": "CUQwd0kXs6J2",
        "outputId": "2531000d-73fd-4a81-d16d-515cae38616b",
        "colab": {
          "base_uri": "https://localhost:8080/"
        }
      },
      "outputs": [
        {
          "output_type": "stream",
          "name": "stdout",
          "text": [
            "Dr. Si's \"cats\n"
          ]
        }
      ],
      "source": [
        "print(dr)"
      ]
    },
    {
      "cell_type": "code",
      "execution_count": 26,
      "metadata": {
        "id": "-JHLJncus6J2",
        "outputId": "a8ecc419-9487-4457-f1bc-4e15782c6ace",
        "colab": {
          "base_uri": "https://localhost:8080/"
        }
      },
      "outputs": [
        {
          "output_type": "execute_result",
          "data": {
            "text/plain": [
              "14"
            ]
          },
          "metadata": {},
          "execution_count": 26
        }
      ],
      "source": [
        "len(dr)"
      ]
    },
    {
      "cell_type": "code",
      "execution_count": 27,
      "metadata": {
        "id": "I_9r5wzas6J3",
        "outputId": "61ee9111-09e3-4c29-9d08-e0009b5b1b34",
        "colab": {
          "base_uri": "https://localhost:8080/",
          "height": 35
        }
      },
      "outputs": [
        {
          "output_type": "execute_result",
          "data": {
            "text/plain": [
              "'A'"
            ],
            "application/vnd.google.colaboratory.intrinsic+json": {
              "type": "string"
            }
          },
          "metadata": {},
          "execution_count": 27
        }
      ],
      "source": [
        "seq = 'AGCCGAC'\n",
        "seq[5]"
      ]
    },
    {
      "cell_type": "code",
      "execution_count": 28,
      "metadata": {
        "id": "Vo2Pxp5gs6J3",
        "outputId": "b138bd7d-afa1-4dfa-f00b-8d5f304a1c6d",
        "colab": {
          "base_uri": "https://localhost:8080/",
          "height": 35
        }
      },
      "outputs": [
        {
          "output_type": "execute_result",
          "data": {
            "text/plain": [
              "'AC'"
            ],
            "application/vnd.google.colaboratory.intrinsic+json": {
              "type": "string"
            }
          },
          "metadata": {},
          "execution_count": 28
        }
      ],
      "source": [
        "# [start_position:up_until_but_not_including]\n",
        "# First character is in position 0\n",
        "seq[5:8]"
      ]
    },
    {
      "cell_type": "code",
      "execution_count": 29,
      "metadata": {
        "id": "OZ9nprOOs6J3",
        "outputId": "c3aaba6d-5a25-4eba-e4cd-83e8957eba50",
        "colab": {
          "base_uri": "https://localhost:8080/",
          "height": 35
        }
      },
      "outputs": [
        {
          "output_type": "execute_result",
          "data": {
            "text/plain": [
              "'AGCCG'"
            ],
            "application/vnd.google.colaboratory.intrinsic+json": {
              "type": "string"
            }
          },
          "metadata": {},
          "execution_count": 29
        }
      ],
      "source": [
        "start_position=0\n",
        "number_of_characters=5\n",
        "seq[start_position:start_position+number_of_characters]"
      ]
    },
    {
      "cell_type": "code",
      "execution_count": 30,
      "metadata": {
        "id": "98QL9mj_s6J3"
      },
      "outputs": [],
      "source": [
        "txt = '''This\n",
        "string\n",
        "is\n",
        "on\n",
        "multiple\n",
        "lines''' #string on multiple lines"
      ]
    },
    {
      "cell_type": "code",
      "execution_count": 31,
      "metadata": {
        "id": "WOSBFGuWs6J3",
        "outputId": "d6dedf39-2005-4ae6-b695-71f5274cb7bd",
        "colab": {
          "base_uri": "https://localhost:8080/",
          "height": 35
        }
      },
      "outputs": [
        {
          "output_type": "execute_result",
          "data": {
            "text/plain": [
              "'This\\nstring\\nis\\non\\nmultiple\\nlines'"
            ],
            "application/vnd.google.colaboratory.intrinsic+json": {
              "type": "string"
            }
          },
          "metadata": {},
          "execution_count": 31
        }
      ],
      "source": [
        "txt"
      ]
    },
    {
      "cell_type": "code",
      "execution_count": 32,
      "metadata": {
        "id": "QrUG0dCcs6J3",
        "outputId": "96c261fa-6d54-48ce-ddde-ba97cbae65ed",
        "colab": {
          "base_uri": "https://localhost:8080/"
        }
      },
      "outputs": [
        {
          "output_type": "stream",
          "name": "stdout",
          "text": [
            "This\n",
            "string\n",
            "is\n",
            "on\n",
            "multiple\n",
            "lines\n"
          ]
        }
      ],
      "source": [
        "print(txt)"
      ]
    },
    {
      "cell_type": "code",
      "execution_count": 33,
      "metadata": {
        "id": "FGK3xuVKs6J3",
        "outputId": "1346a854-559f-44b9-8018-1739364b7836",
        "colab": {
          "base_uri": "https://localhost:8080/"
        }
      },
      "outputs": [
        {
          "output_type": "execute_result",
          "data": {
            "text/plain": [
              "32"
            ]
          },
          "metadata": {},
          "execution_count": 33
        }
      ],
      "source": [
        "len(txt)"
      ]
    },
    {
      "cell_type": "code",
      "execution_count": 34,
      "metadata": {
        "id": "erlMT74Ss6J3"
      },
      "outputs": [],
      "source": [
        "txt2 = 'This\\nstring\\nis\\non\\nmultiple\\nlines'"
      ]
    },
    {
      "cell_type": "code",
      "execution_count": 35,
      "metadata": {
        "id": "WWyfZVs5s6J3",
        "outputId": "b0c49335-2622-4107-dca5-0b37a02adc80",
        "colab": {
          "base_uri": "https://localhost:8080/"
        }
      },
      "outputs": [
        {
          "output_type": "stream",
          "name": "stdout",
          "text": [
            "This\n",
            "string\n",
            "is\n",
            "on\n",
            "multiple\n",
            "lines\n"
          ]
        }
      ],
      "source": [
        "print(txt2)"
      ]
    },
    {
      "cell_type": "code",
      "execution_count": 36,
      "metadata": {
        "id": "jbgSDf5Xs6J4",
        "outputId": "8ac9ed77-128d-4d40-89b9-ccaf869c9963",
        "colab": {
          "base_uri": "https://localhost:8080/"
        }
      },
      "outputs": [
        {
          "output_type": "stream",
          "name": "stdout",
          "text": [
            "a1\ta2\n",
            "b10\tb2\n"
          ]
        }
      ],
      "source": [
        "tbl = \"a1\\ta2\\nb10\\tb2\"#tab\n",
        "print(tbl)"
      ]
    },
    {
      "cell_type": "markdown",
      "metadata": {
        "id": "twHwBTPZs6J4"
      },
      "source": [
        "# Parts of strings"
      ]
    },
    {
      "cell_type": "code",
      "execution_count": 37,
      "metadata": {
        "id": "1AbyZ0u-s6J4"
      },
      "outputs": [],
      "source": [
        "name = \"Paul E. Boal\""
      ]
    },
    {
      "cell_type": "markdown",
      "metadata": {
        "id": "bkwbSEDis6J4"
      },
      "source": [
        "`[]` is used to \"slice\" a string\n",
        "\n",
        "```\n",
        "a[start:end] # items start through end-1\n",
        "a[start:]    # items start through the rest of the array\n",
        "a[:end]      # items from the beginning through end-1\n",
        "a[:]         # a copy of the whole array\n",
        "```\n",
        "\n",
        "If `start` or `end` is a negative number, then it means that many characters from the end of the string."
      ]
    },
    {
      "cell_type": "code",
      "execution_count": 38,
      "metadata": {
        "id": "rn1UN8pVs6J4",
        "outputId": "31919926-cc74-443d-a741-94daa8b6dca6",
        "colab": {
          "base_uri": "https://localhost:8080/"
        }
      },
      "outputs": [
        {
          "output_type": "execute_result",
          "data": {
            "text/plain": [
              "12"
            ]
          },
          "metadata": {},
          "execution_count": 38
        }
      ],
      "source": [
        "len(name)"
      ]
    },
    {
      "cell_type": "code",
      "execution_count": 39,
      "metadata": {
        "id": "FDx98eWms6J4",
        "outputId": "f91ed4f6-2c3c-4517-fc3a-b2e5ae0866e3",
        "colab": {
          "base_uri": "https://localhost:8080/",
          "height": 35
        }
      },
      "outputs": [
        {
          "output_type": "execute_result",
          "data": {
            "text/plain": [
              "'P'"
            ],
            "application/vnd.google.colaboratory.intrinsic+json": {
              "type": "string"
            }
          },
          "metadata": {},
          "execution_count": 39
        }
      ],
      "source": [
        "name[0]"
      ]
    },
    {
      "cell_type": "code",
      "execution_count": 40,
      "metadata": {
        "id": "cQhd96S2s6J4",
        "outputId": "74ae09df-52b6-4e93-86ed-8b592c7e65a3",
        "colab": {
          "base_uri": "https://localhost:8080/",
          "height": 35
        }
      },
      "outputs": [
        {
          "output_type": "execute_result",
          "data": {
            "text/plain": [
              "'Paul'"
            ],
            "application/vnd.google.colaboratory.intrinsic+json": {
              "type": "string"
            }
          },
          "metadata": {},
          "execution_count": 40
        }
      ],
      "source": [
        "name[0:4]"
      ]
    },
    {
      "cell_type": "code",
      "execution_count": 41,
      "metadata": {
        "id": "It_pVsfMs6J4",
        "outputId": "6a933abd-7f59-4fe1-ac77-6ad2be6681db",
        "colab": {
          "base_uri": "https://localhost:8080/",
          "height": 35
        }
      },
      "outputs": [
        {
          "output_type": "execute_result",
          "data": {
            "text/plain": [
              "'Boal'"
            ],
            "application/vnd.google.colaboratory.intrinsic+json": {
              "type": "string"
            }
          },
          "metadata": {},
          "execution_count": 41
        }
      ],
      "source": [
        "name[-4:]"
      ]
    },
    {
      "cell_type": "code",
      "execution_count": 42,
      "metadata": {
        "id": "mTsI8laZs6J4",
        "outputId": "457a88e3-71e3-432b-f529-57c2e14f4547",
        "colab": {
          "base_uri": "https://localhost:8080/",
          "height": 35
        }
      },
      "outputs": [
        {
          "output_type": "execute_result",
          "data": {
            "text/plain": [
              "'E. Boal'"
            ],
            "application/vnd.google.colaboratory.intrinsic+json": {
              "type": "string"
            }
          },
          "metadata": {},
          "execution_count": 42
        }
      ],
      "source": [
        "name[5:]"
      ]
    },
    {
      "cell_type": "code",
      "execution_count": 43,
      "metadata": {
        "id": "i7V31olEs6J4",
        "outputId": "d8701726-8d24-4140-b55f-f2f40eae2144",
        "colab": {
          "base_uri": "https://localhost:8080/"
        }
      },
      "outputs": [
        {
          "output_type": "stream",
          "name": "stdout",
          "text": [
            "Paul E. Boal\n"
          ]
        }
      ],
      "source": [
        "print(name)"
      ]
    },
    {
      "cell_type": "code",
      "execution_count": 44,
      "metadata": {
        "id": "-JHisOV9s6J4",
        "outputId": "02588e7f-a6f2-4acc-cedc-6964ff095755",
        "colab": {
          "base_uri": "https://localhost:8080/"
        }
      },
      "outputs": [
        {
          "output_type": "execute_result",
          "data": {
            "text/plain": [
              "4"
            ]
          },
          "metadata": {},
          "execution_count": 44
        }
      ],
      "source": [
        "name.find(' ')"
      ]
    },
    {
      "cell_type": "code",
      "execution_count": 45,
      "metadata": {
        "id": "LEzMOHqCs6J5",
        "outputId": "7e8a47dc-44d2-4b94-ef63-d2fed2df97a4",
        "colab": {
          "base_uri": "https://localhost:8080/",
          "height": 35
        }
      },
      "outputs": [
        {
          "output_type": "execute_result",
          "data": {
            "text/plain": [
              "'Paul'"
            ],
            "application/vnd.google.colaboratory.intrinsic+json": {
              "type": "string"
            }
          },
          "metadata": {},
          "execution_count": 45
        }
      ],
      "source": [
        "name[:name.find(' ')]"
      ]
    },
    {
      "cell_type": "code",
      "execution_count": 46,
      "metadata": {
        "id": "slYM_cifs6J5",
        "outputId": "b40d4caf-ba9d-4e35-dfc1-87f86184b20e",
        "colab": {
          "base_uri": "https://localhost:8080/",
          "height": 35
        }
      },
      "outputs": [
        {
          "output_type": "execute_result",
          "data": {
            "text/plain": [
              "'E. Boal'"
            ],
            "application/vnd.google.colaboratory.intrinsic+json": {
              "type": "string"
            }
          },
          "metadata": {},
          "execution_count": 46
        }
      ],
      "source": [
        "name[name.find(' ')+1:]"
      ]
    },
    {
      "cell_type": "code",
      "execution_count": 47,
      "metadata": {
        "id": "6LZFuJbbs6J5",
        "outputId": "4061a70b-01f7-401b-d9b8-42b4ec0610fb",
        "colab": {
          "base_uri": "https://localhost:8080/",
          "height": 35
        }
      },
      "outputs": [
        {
          "output_type": "execute_result",
          "data": {
            "text/plain": [
              "'E. Boal'"
            ],
            "application/vnd.google.colaboratory.intrinsic+json": {
              "type": "string"
            }
          },
          "metadata": {},
          "execution_count": 47
        }
      ],
      "source": [
        "pos_of_middle_name = name.find(' ') + 1\n",
        "middle_and_last = name[pos_of_middle_name:]\n",
        "middle_and_last"
      ]
    },
    {
      "cell_type": "code",
      "execution_count": 48,
      "metadata": {
        "id": "JJga8EqCs6KG",
        "outputId": "19e47b16-7dcc-406e-aae1-4dcf565653f2",
        "colab": {
          "base_uri": "https://localhost:8080/",
          "height": 35
        }
      },
      "outputs": [
        {
          "output_type": "execute_result",
          "data": {
            "text/plain": [
              "'Boal'"
            ],
            "application/vnd.google.colaboratory.intrinsic+json": {
              "type": "string"
            }
          },
          "metadata": {},
          "execution_count": 48
        }
      ],
      "source": [
        "# Position of the middle name is up to the first space\n",
        "pos_of_middle_name = name.find(' ') + 1\n",
        "\n",
        "middle_and_last = name[pos_of_middle_name:]\n",
        "\n",
        "# Position of the last name is the position of the first space after the end of the first name\n",
        "pos_of_last = middle_and_last.find(' ') + 1\n",
        "\n",
        "middle_and_last[pos_of_last:]"
      ]
    },
    {
      "cell_type": "code",
      "execution_count": 49,
      "metadata": {
        "id": "_-I61XmNs6KG",
        "outputId": "86f8ce4a-c5b8-4fc8-b691-c4570f865fcc",
        "colab": {
          "base_uri": "https://localhost:8080/",
          "height": 35
        }
      },
      "outputs": [
        {
          "output_type": "execute_result",
          "data": {
            "text/plain": [
              "'Paul E. Boal'"
            ],
            "application/vnd.google.colaboratory.intrinsic+json": {
              "type": "string"
            }
          },
          "metadata": {},
          "execution_count": 49
        }
      ],
      "source": [
        "name"
      ]
    },
    {
      "cell_type": "code",
      "execution_count": 50,
      "metadata": {
        "id": "zEOqhdbAs6KG",
        "outputId": "529357ca-2c58-4302-f588-afdd7741390b",
        "colab": {
          "base_uri": "https://localhost:8080/"
        }
      },
      "outputs": [
        {
          "output_type": "execute_result",
          "data": {
            "text/plain": [
              "['Paul', 'E.', 'Boal']"
            ]
          },
          "metadata": {},
          "execution_count": 50
        }
      ],
      "source": [
        "name.split(' ')"
      ]
    },
    {
      "cell_type": "markdown",
      "metadata": {
        "id": "UjKUW4n4s6KH"
      },
      "source": [
        "## Splitting Strings"
      ]
    },
    {
      "cell_type": "code",
      "execution_count": 51,
      "metadata": {
        "id": "8wgYVfsts6KH"
      },
      "outputs": [],
      "source": [
        "names=\"Paul,Sarahlynn,Ellie,Ada,Teddy\""
      ]
    },
    {
      "cell_type": "code",
      "execution_count": 52,
      "metadata": {
        "id": "peqWE-w5s6KH",
        "colab": {
          "base_uri": "https://localhost:8080/"
        },
        "outputId": "fb6dd6f8-63f7-42cb-a9d3-68ccb537fbd3"
      },
      "outputs": [
        {
          "output_type": "execute_result",
          "data": {
            "text/plain": [
              "['Paul', 'Sarahlynn', 'Ellie', 'Ada', 'Teddy']"
            ]
          },
          "metadata": {},
          "execution_count": 52
        }
      ],
      "source": [
        "names.split(',')"
      ]
    },
    {
      "cell_type": "code",
      "execution_count": 53,
      "metadata": {
        "id": "ozfmk9Gjs6KH"
      },
      "outputs": [],
      "source": [
        "names=\"Paul, Sarahlynn, Ellie, Ada, Teddy\""
      ]
    },
    {
      "cell_type": "code",
      "execution_count": 54,
      "metadata": {
        "id": "9MKx7eJSs6KH",
        "colab": {
          "base_uri": "https://localhost:8080/"
        },
        "outputId": "597f1a3c-2435-4e4f-f350-f25a8712cc97"
      },
      "outputs": [
        {
          "output_type": "execute_result",
          "data": {
            "text/plain": [
              "['Paul', ' Sarahlynn', ' Ellie', ' Ada', ' Teddy']"
            ]
          },
          "metadata": {},
          "execution_count": 54
        }
      ],
      "source": [
        "\n",
        "names.split(',')"
      ]
    },
    {
      "cell_type": "code",
      "execution_count": 55,
      "metadata": {
        "id": "aCpGUfDgs6KH",
        "colab": {
          "base_uri": "https://localhost:8080/"
        },
        "outputId": "a9fa4084-ef34-47a8-a57d-e654849534a2"
      },
      "outputs": [
        {
          "output_type": "execute_result",
          "data": {
            "text/plain": [
              "['Paul', 'Sarahlynn', 'Ellie', 'Ada', 'Teddy']"
            ]
          },
          "metadata": {},
          "execution_count": 55
        }
      ],
      "source": [
        "names.split(', ')"
      ]
    },
    {
      "cell_type": "markdown",
      "metadata": {
        "id": "uW8fUJ7Ws6KH"
      },
      "source": [
        "## Find the Nth Occurrence of a String"
      ]
    },
    {
      "cell_type": "code",
      "execution_count": 56,
      "metadata": {
        "id": "7jYCgPRLs6KH"
      },
      "outputs": [],
      "source": [
        "our_string = \"love is love is love is love\""
      ]
    },
    {
      "cell_type": "code",
      "execution_count": 57,
      "metadata": {
        "id": "oOhb8dCZs6KH",
        "outputId": "ce89f4be-5ef1-4c8c-8bbf-e54f0e57a735",
        "colab": {
          "base_uri": "https://localhost:8080/"
        }
      },
      "outputs": [
        {
          "output_type": "execute_result",
          "data": {
            "text/plain": [
              "0"
            ]
          },
          "metadata": {},
          "execution_count": 57
        }
      ],
      "source": [
        "first_love = our_string.find(\"love\")\n",
        "first_love"
      ]
    },
    {
      "cell_type": "code",
      "execution_count": 58,
      "metadata": {
        "id": "b2d_HokNs6KH",
        "outputId": "93a72ef0-857a-4e64-95de-5aa485267799",
        "colab": {
          "base_uri": "https://localhost:8080/"
        }
      },
      "outputs": [
        {
          "output_type": "execute_result",
          "data": {
            "text/plain": [
              "8"
            ]
          },
          "metadata": {},
          "execution_count": 58
        }
      ],
      "source": [
        "second_love = our_string.find(\"love\", first_love+1)\n",
        "second_love"
      ]
    },
    {
      "cell_type": "code",
      "execution_count": 59,
      "metadata": {
        "id": "Eh7HftH2s6KH",
        "outputId": "94d0bf67-45e9-4c8d-eab4-4989cb646fa7",
        "colab": {
          "base_uri": "https://localhost:8080/"
        }
      },
      "outputs": [
        {
          "output_type": "execute_result",
          "data": {
            "text/plain": [
              "16"
            ]
          },
          "metadata": {},
          "execution_count": 59
        }
      ],
      "source": [
        "third_love = our_string.find(\"love\", second_love+1)\n",
        "third_love"
      ]
    },
    {
      "cell_type": "code",
      "execution_count": 59,
      "metadata": {
        "id": "0AU3W_xZs6KI"
      },
      "outputs": [],
      "source": []
    },
    {
      "cell_type": "code",
      "execution_count": 60,
      "metadata": {
        "id": "410kyAUYs6KI"
      },
      "outputs": [],
      "source": [
        "def find_nth(str_to_search, for_str, nth):\n",
        "\n",
        "    start = 0\n",
        "    for i in range(1, nth+1):\n",
        "        pos = str_to_search.find(for_str, start)\n",
        "        if pos == -1:\n",
        "            return -1\n",
        "        else:\n",
        "            start = pos+1\n",
        "\n",
        "    return pos"
      ]
    },
    {
      "cell_type": "code",
      "execution_count": 61,
      "metadata": {
        "id": "ar_p3pUVs6KI",
        "outputId": "b7a7a7bb-b51a-4c49-e4f3-b5ccf0967471",
        "colab": {
          "base_uri": "https://localhost:8080/"
        }
      },
      "outputs": [
        {
          "output_type": "execute_result",
          "data": {
            "text/plain": [
              "24"
            ]
          },
          "metadata": {},
          "execution_count": 61
        }
      ],
      "source": [
        "find_nth(our_string, \"love\", 4)"
      ]
    },
    {
      "cell_type": "code",
      "execution_count": 62,
      "metadata": {
        "id": "oBfU_enFs6KI",
        "outputId": "1f614ca3-ddfc-4447-b498-c69053b65433",
        "colab": {
          "base_uri": "https://localhost:8080/"
        }
      },
      "outputs": [
        {
          "output_type": "execute_result",
          "data": {
            "text/plain": [
              "5"
            ]
          },
          "metadata": {},
          "execution_count": 62
        }
      ],
      "source": [
        "find_nth(our_string, \"is\", 1)"
      ]
    },
    {
      "cell_type": "code",
      "execution_count": 63,
      "metadata": {
        "id": "4QgjIFecs6KI",
        "outputId": "94669d28-31a3-47b6-f4bb-420bb6bb1ccf",
        "colab": {
          "base_uri": "https://localhost:8080/"
        }
      },
      "outputs": [
        {
          "output_type": "stream",
          "name": "stdout",
          "text": [
            "0\n",
            "8\n",
            "16\n",
            "24\n",
            "-1\n",
            "-1\n",
            "-1\n",
            "-1\n",
            "-1\n"
          ]
        }
      ],
      "source": [
        "for n in range(1,10):\n",
        "    pos = find_nth(our_string, \"love\", n)\n",
        "    print(pos)"
      ]
    },
    {
      "cell_type": "code",
      "execution_count": 64,
      "metadata": {
        "id": "8ycyiBLPs6KI"
      },
      "outputs": [],
      "source": [
        "def find_nth(str_to_search, for_str, nth, base=0):\n",
        "\n",
        "    first = str_to_search.find(for_str)\n",
        "    #print(nth, str_to_search)\n",
        "\n",
        "    if first == -1 and nth == 1:\n",
        "        return -1\n",
        "    elif nth == 1:\n",
        "        return first + base\n",
        "    else:\n",
        "        return find_nth(str_to_search[first+1:], for_str, nth-1, base+first+1)\n"
      ]
    },
    {
      "cell_type": "code",
      "execution_count": 65,
      "metadata": {
        "id": "d1RoTrEcs6KI",
        "outputId": "91c708ae-761e-4537-9794-5648dee7661b",
        "colab": {
          "base_uri": "https://localhost:8080/"
        }
      },
      "outputs": [
        {
          "output_type": "stream",
          "name": "stdout",
          "text": [
            "0\n",
            "8\n",
            "16\n",
            "24\n",
            "-1\n",
            "-1\n",
            "-1\n",
            "-1\n",
            "-1\n"
          ]
        }
      ],
      "source": [
        "for n in range(1,10):\n",
        "    pos = find_nth(\"love is love is love is love\", \"love\", n)\n",
        "    print(pos)"
      ]
    },
    {
      "cell_type": "code",
      "execution_count": 65,
      "metadata": {
        "id": "pnJIVI0ds6KI"
      },
      "outputs": [],
      "source": []
    }
  ],
  "metadata": {
    "kernelspec": {
      "display_name": "Python 3",
      "language": "python",
      "name": "python3"
    },
    "language_info": {
      "codemirror_mode": {
        "name": "ipython",
        "version": 3
      },
      "file_extension": ".py",
      "mimetype": "text/x-python",
      "name": "python",
      "nbconvert_exporter": "python",
      "pygments_lexer": "ipython3",
      "version": "3.6.7"
    },
    "colab": {
      "provenance": [],
      "include_colab_link": true
    }
  },
  "nbformat": 4,
  "nbformat_minor": 0
}