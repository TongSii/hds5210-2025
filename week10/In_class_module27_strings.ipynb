{
  "cells": [
    {
      "cell_type": "markdown",
      "metadata": {
        "id": "view-in-github",
        "colab_type": "text"
      },
      "source": [
        "<a href=\"https://colab.research.google.com/github/TongSii/hds5210-2025/blob/main/week10/In_class_module27_strings.ipynb\" target=\"_parent\"><img src=\"https://colab.research.google.com/assets/colab-badge.svg\" alt=\"Open In Colab\"/></a>"
      ]
    },
    {
      "cell_type": "markdown",
      "metadata": {
        "id": "aGNI3bjls6Jy"
      },
      "source": [
        "# Text\n",
        "\n",
        "The objective for this part of the lecture is to explain how Python represents strings and how they can be used.\n",
        "\n",
        "* What is a string\n",
        "* How to manipulate and parse strings\n",
        "* Printing out strings"
      ]
    },
    {
      "cell_type": "code",
      "execution_count": null,
      "metadata": {
        "id": "_8lRmgv8s6Jz",
        "outputId": "8d1daf39-5333-4383-b2a8-043745e7497d"
      },
      "outputs": [
        {
          "data": {
            "text/plain": [
              "'Dr. James'"
            ]
          },
          "execution_count": 1,
          "metadata": {},
          "output_type": "execute_result"
        }
      ],
      "source": [
        "\"Dr. Si\""
      ]
    },
    {
      "cell_type": "code",
      "execution_count": null,
      "metadata": {
        "id": "g2FOHED0s6J0",
        "outputId": "7e680af1-c05b-43c3-f041-986a305c5896"
      },
      "outputs": [
        {
          "data": {
            "text/plain": [
              "'Dr. James'"
            ]
          },
          "execution_count": 2,
          "metadata": {},
          "output_type": "execute_result"
        }
      ],
      "source": [
        "dr='Dr. Si'\n",
        "dr"
      ]
    },
    {
      "cell_type": "code",
      "execution_count": null,
      "metadata": {
        "id": "1biQrjOes6J1",
        "outputId": "eb522f42-6b3d-4a3a-ec52-a79899dc2813"
      },
      "outputs": [
        {
          "ename": "TypeError",
          "evalue": "must be str, not int",
          "output_type": "error",
          "traceback": [
            "\u001b[0;31m---------------------------------------------------------------------------\u001b[0m",
            "\u001b[0;31mTypeError\u001b[0m                                 Traceback (most recent call last)",
            "\u001b[0;32m<ipython-input-3-0594b14bcb21>\u001b[0m in \u001b[0;36m<module>\u001b[0;34m\u001b[0m\n\u001b[0;32m----> 1\u001b[0;31m \u001b[0;34m'Dr. James'\u001b[0m \u001b[0;34m+\u001b[0m \u001b[0;36m1\u001b[0m\u001b[0;34m\u001b[0m\u001b[0;34m\u001b[0m\u001b[0m\n\u001b[0m",
            "\u001b[0;31mTypeError\u001b[0m: must be str, not int"
          ]
        }
      ],
      "source": [
        "'Dr. Si' + 1"
      ]
    },
    {
      "cell_type": "code",
      "execution_count": null,
      "metadata": {
        "id": "rxTGYhefs6J1",
        "outputId": "b1119132-f1aa-4518-f5e8-587c774b7111"
      },
      "outputs": [
        {
          "data": {
            "text/plain": [
              "'Dr. James1'"
            ]
          },
          "execution_count": 4,
          "metadata": {},
          "output_type": "execute_result"
        }
      ],
      "source": [
        "'Dr. Si' + str(1)"
      ]
    },
    {
      "cell_type": "code",
      "execution_count": null,
      "metadata": {
        "id": "Di-Il1Ews6J1",
        "outputId": "be4d0f43-2cd6-4e75-fd25-ab320ca65638"
      },
      "outputs": [
        {
          "data": {
            "text/plain": [
              "'Dr. James and spouse'"
            ]
          },
          "execution_count": 5,
          "metadata": {},
          "output_type": "execute_result"
        }
      ],
      "source": [
        "'Dr. Si' + ' and cats'"
      ]
    },
    {
      "cell_type": "code",
      "execution_count": null,
      "metadata": {
        "id": "NgRKEhrCs6J1",
        "outputId": "acf63038-3b34-4bed-a538-0b4918205fe2"
      },
      "outputs": [
        {
          "data": {
            "text/plain": [
              "\"Dr. James's spouse\""
            ]
          },
          "execution_count": 6,
          "metadata": {},
          "output_type": "execute_result"
        }
      ],
      "source": [
        "'Dr. Si\\'s cats' #skip character"
      ]
    },
    {
      "cell_type": "code",
      "execution_count": null,
      "metadata": {
        "id": "-bCoEjV_s6J1",
        "outputId": "6bcaec01-9391-4128-abbf-4de0064af6d9"
      },
      "outputs": [
        {
          "data": {
            "text/plain": [
              "\"Dr. James's spouse\""
            ]
          },
          "execution_count": 7,
          "metadata": {},
          "output_type": "execute_result"
        }
      ],
      "source": [
        "\"Dr. Si's cats\""
      ]
    },
    {
      "cell_type": "code",
      "execution_count": null,
      "metadata": {
        "id": "wDWglQxAs6J1",
        "outputId": "1d9e9fd7-a224-4ca2-b8e3-b7d7775f344b"
      },
      "outputs": [
        {
          "data": {
            "text/plain": [
              "9"
            ]
          },
          "execution_count": 8,
          "metadata": {},
          "output_type": "execute_result"
        }
      ],
      "source": [
        "len('Dr. Si')"
      ]
    },
    {
      "cell_type": "code",
      "execution_count": null,
      "metadata": {
        "id": "g7EkGRqMs6J1",
        "outputId": "6ed98bed-13a0-497b-a84e-177421cc957b"
      },
      "outputs": [
        {
          "data": {
            "text/plain": [
              "18"
            ]
          },
          "execution_count": 9,
          "metadata": {},
          "output_type": "execute_result"
        }
      ],
      "source": [
        "len('Dr. Si\\'s cats') #skip character is not count"
      ]
    },
    {
      "cell_type": "code",
      "execution_count": null,
      "metadata": {
        "id": "BTaztgbts6J1",
        "outputId": "bfad5aa3-3e80-4bfc-9c33-a9f535a8383e"
      },
      "outputs": [
        {
          "data": {
            "text/plain": [
              "18"
            ]
          },
          "execution_count": 10,
          "metadata": {},
          "output_type": "execute_result"
        }
      ],
      "source": [
        "len(\"Dr. Si's cats\")"
      ]
    },
    {
      "cell_type": "code",
      "execution_count": null,
      "metadata": {
        "id": "NRSVA7Mds6J2"
      },
      "outputs": [],
      "source": [
        "dr = 'Dr. Si\\'s \"cats'"
      ]
    },
    {
      "cell_type": "code",
      "execution_count": null,
      "metadata": {
        "id": "x-tKFAZNs6J2",
        "outputId": "a74c2584-e3fa-4a02-c754-b59920c230c0"
      },
      "outputs": [
        {
          "data": {
            "text/plain": [
              "'Dr. James\\'s \"Spouse\"'"
            ]
          },
          "execution_count": 2,
          "metadata": {},
          "output_type": "execute_result"
        }
      ],
      "source": [
        "dr"
      ]
    },
    {
      "cell_type": "code",
      "execution_count": null,
      "metadata": {
        "id": "qAQpVpgWs6J2",
        "outputId": "46e5da9d-5cd0-4c93-9ba3-09e6bbbea2f0"
      },
      "outputs": [
        {
          "data": {
            "text/plain": [
              "'Dr. James\\'s \"Spouse\"'"
            ]
          },
          "execution_count": 3,
          "metadata": {},
          "output_type": "execute_result"
        }
      ],
      "source": [
        "\"Dr. Si's \\\"cats\\\"\""
      ]
    },
    {
      "cell_type": "code",
      "execution_count": null,
      "metadata": {
        "id": "CUQwd0kXs6J2",
        "outputId": "6c282824-2267-42f4-ed7a-ca50310bef86"
      },
      "outputs": [
        {
          "name": "stdout",
          "output_type": "stream",
          "text": [
            "Dr. James's \"Spouse\"\n"
          ]
        }
      ],
      "source": [
        "print(dr)"
      ]
    },
    {
      "cell_type": "code",
      "execution_count": null,
      "metadata": {
        "id": "-JHLJncus6J2",
        "outputId": "36352d2a-5813-4df1-ed25-0eb5e7bb2721"
      },
      "outputs": [
        {
          "data": {
            "text/plain": [
              "20"
            ]
          },
          "execution_count": 5,
          "metadata": {},
          "output_type": "execute_result"
        }
      ],
      "source": [
        "len(dr)"
      ]
    },
    {
      "cell_type": "code",
      "execution_count": null,
      "metadata": {
        "id": "I_9r5wzas6J3",
        "outputId": "e32f69f9-afe7-4ccc-fdd0-0c4814dc0441"
      },
      "outputs": [
        {
          "data": {
            "text/plain": [
              "'A'"
            ]
          },
          "execution_count": 12,
          "metadata": {},
          "output_type": "execute_result"
        }
      ],
      "source": [
        "seq = 'AGCCGAC'\n",
        "seq[5]"
      ]
    },
    {
      "cell_type": "code",
      "execution_count": null,
      "metadata": {
        "id": "Vo2Pxp5gs6J3",
        "outputId": "205be584-8dfc-49e8-a48c-20bcd0bded1e"
      },
      "outputs": [
        {
          "data": {
            "text/plain": [
              "'AC'"
            ]
          },
          "execution_count": 13,
          "metadata": {},
          "output_type": "execute_result"
        }
      ],
      "source": [
        "# [start_position:up_until_but_not_including]\n",
        "# First character is in position 0\n",
        "seq[5:8]"
      ]
    },
    {
      "cell_type": "code",
      "execution_count": null,
      "metadata": {
        "id": "OZ9nprOOs6J3",
        "outputId": "d424d421-636f-46e8-9bff-26b2be2e9f9b"
      },
      "outputs": [
        {
          "data": {
            "text/plain": [
              "'AGCCG'"
            ]
          },
          "execution_count": 15,
          "metadata": {},
          "output_type": "execute_result"
        }
      ],
      "source": [
        "start_position=0\n",
        "number_of_characters=5\n",
        "seq[start_position:start_position+number_of_characters]"
      ]
    },
    {
      "cell_type": "code",
      "execution_count": null,
      "metadata": {
        "id": "98QL9mj_s6J3"
      },
      "outputs": [],
      "source": [
        "txt = '''This\n",
        "string\n",
        "is\n",
        "on\n",
        "multiple\n",
        "lines''' #string on multiple lines"
      ]
    },
    {
      "cell_type": "code",
      "execution_count": null,
      "metadata": {
        "id": "WOSBFGuWs6J3",
        "outputId": "050cab12-66f5-4ea4-d247-a1488e80e0f0"
      },
      "outputs": [
        {
          "data": {
            "text/plain": [
              "'This\\nstring\\nis\\non\\nmultiple\\nlines'"
            ]
          },
          "execution_count": 17,
          "metadata": {},
          "output_type": "execute_result"
        }
      ],
      "source": [
        "txt"
      ]
    },
    {
      "cell_type": "code",
      "execution_count": null,
      "metadata": {
        "id": "QrUG0dCcs6J3",
        "outputId": "efecfcc6-7f7c-4a65-ac7d-5a290b965d34"
      },
      "outputs": [
        {
          "name": "stdout",
          "output_type": "stream",
          "text": [
            "This\n",
            "string\n",
            "is\n",
            "on\n",
            "multiple\n",
            "lines\n"
          ]
        }
      ],
      "source": [
        "print(txt)"
      ]
    },
    {
      "cell_type": "code",
      "execution_count": null,
      "metadata": {
        "id": "FGK3xuVKs6J3",
        "outputId": "a067c045-0441-428e-f38c-9ee4e72cee48"
      },
      "outputs": [
        {
          "data": {
            "text/plain": [
              "32"
            ]
          },
          "execution_count": 19,
          "metadata": {},
          "output_type": "execute_result"
        }
      ],
      "source": [
        "len(txt)"
      ]
    },
    {
      "cell_type": "code",
      "execution_count": null,
      "metadata": {
        "id": "erlMT74Ss6J3"
      },
      "outputs": [],
      "source": [
        "txt2 = 'This\\nstring\\nis\\non\\nmultiple\\nlines'"
      ]
    },
    {
      "cell_type": "code",
      "execution_count": null,
      "metadata": {
        "id": "WWyfZVs5s6J3",
        "outputId": "c523d2d8-f245-4675-d7f7-b287dc3be7ec"
      },
      "outputs": [
        {
          "name": "stdout",
          "output_type": "stream",
          "text": [
            "This\n",
            "string\n",
            "is\n",
            "on\n",
            "multiple\n",
            "lines\n"
          ]
        }
      ],
      "source": [
        "print(txt2)"
      ]
    },
    {
      "cell_type": "code",
      "execution_count": null,
      "metadata": {
        "id": "jbgSDf5Xs6J4",
        "outputId": "cfe5929d-5483-4eb6-c923-d132dfe67733"
      },
      "outputs": [
        {
          "name": "stdout",
          "output_type": "stream",
          "text": [
            "a1\ta2\n",
            "b10\tb2\n"
          ]
        }
      ],
      "source": [
        "tbl = \"a1\\ta2\\nb10\\tb2\"#tab\n",
        "print(tbl)"
      ]
    },
    {
      "cell_type": "markdown",
      "metadata": {
        "id": "twHwBTPZs6J4"
      },
      "source": [
        "# Parts of strings"
      ]
    },
    {
      "cell_type": "code",
      "execution_count": null,
      "metadata": {
        "id": "1AbyZ0u-s6J4"
      },
      "outputs": [],
      "source": [
        "name = \"Paul E. Boal\""
      ]
    },
    {
      "cell_type": "markdown",
      "metadata": {
        "id": "bkwbSEDis6J4"
      },
      "source": [
        "`[]` is used to \"slice\" a string\n",
        "\n",
        "```\n",
        "a[start:end] # items start through end-1\n",
        "a[start:]    # items start through the rest of the array\n",
        "a[:end]      # items from the beginning through end-1\n",
        "a[:]         # a copy of the whole array\n",
        "```\n",
        "\n",
        "If `start` or `end` is a negative number, then it means that many characters from the end of the string."
      ]
    },
    {
      "cell_type": "code",
      "execution_count": null,
      "metadata": {
        "id": "rn1UN8pVs6J4",
        "outputId": "8c758ed4-0eb6-447b-9ac9-ebc5d0878cef"
      },
      "outputs": [
        {
          "data": {
            "text/plain": [
              "12"
            ]
          },
          "execution_count": 24,
          "metadata": {},
          "output_type": "execute_result"
        }
      ],
      "source": [
        "len(name)"
      ]
    },
    {
      "cell_type": "code",
      "execution_count": null,
      "metadata": {
        "id": "FDx98eWms6J4",
        "outputId": "075f82f1-3947-4b0f-d908-144b8a08ba32"
      },
      "outputs": [
        {
          "data": {
            "text/plain": [
              "'P'"
            ]
          },
          "execution_count": 25,
          "metadata": {},
          "output_type": "execute_result"
        }
      ],
      "source": [
        "name[0]"
      ]
    },
    {
      "cell_type": "code",
      "execution_count": null,
      "metadata": {
        "id": "cQhd96S2s6J4",
        "outputId": "ded69120-6cda-421d-a9ab-be8c16fe76ee"
      },
      "outputs": [
        {
          "data": {
            "text/plain": [
              "'Paul'"
            ]
          },
          "execution_count": 26,
          "metadata": {},
          "output_type": "execute_result"
        }
      ],
      "source": [
        "name[0:4]"
      ]
    },
    {
      "cell_type": "code",
      "execution_count": null,
      "metadata": {
        "id": "It_pVsfMs6J4",
        "outputId": "2274582f-9d32-4178-c65c-4f4d8edeb91d"
      },
      "outputs": [
        {
          "data": {
            "text/plain": [
              "'Boal'"
            ]
          },
          "execution_count": 27,
          "metadata": {},
          "output_type": "execute_result"
        }
      ],
      "source": [
        "name[-4:]"
      ]
    },
    {
      "cell_type": "code",
      "execution_count": null,
      "metadata": {
        "id": "mTsI8laZs6J4",
        "outputId": "41263acf-efb1-4168-a0b0-b7850eaeb2dd"
      },
      "outputs": [
        {
          "data": {
            "text/plain": [
              "'E. Boal'"
            ]
          },
          "execution_count": 28,
          "metadata": {},
          "output_type": "execute_result"
        }
      ],
      "source": [
        "name[5:]"
      ]
    },
    {
      "cell_type": "code",
      "execution_count": null,
      "metadata": {
        "id": "i7V31olEs6J4",
        "outputId": "b402894d-a1ff-401f-ab5f-a70bd493a5f4"
      },
      "outputs": [
        {
          "name": "stdout",
          "output_type": "stream",
          "text": [
            "Paul E. Boal\n"
          ]
        }
      ],
      "source": [
        "print(name)"
      ]
    },
    {
      "cell_type": "code",
      "execution_count": null,
      "metadata": {
        "id": "-JHisOV9s6J4",
        "outputId": "98b3b7fb-5156-4388-c17e-53aff433c902"
      },
      "outputs": [
        {
          "data": {
            "text/plain": [
              "4"
            ]
          },
          "execution_count": 30,
          "metadata": {},
          "output_type": "execute_result"
        }
      ],
      "source": [
        "name.find(' ')"
      ]
    },
    {
      "cell_type": "code",
      "execution_count": null,
      "metadata": {
        "id": "LEzMOHqCs6J5",
        "outputId": "cffbcc23-48db-4c6a-e03c-7f082b6e027f"
      },
      "outputs": [
        {
          "data": {
            "text/plain": [
              "'Paul'"
            ]
          },
          "execution_count": 31,
          "metadata": {},
          "output_type": "execute_result"
        }
      ],
      "source": [
        "name[:name.find(' ')]"
      ]
    },
    {
      "cell_type": "code",
      "execution_count": null,
      "metadata": {
        "id": "slYM_cifs6J5",
        "outputId": "62c2d762-b5f6-45f2-af48-da7e872b4719"
      },
      "outputs": [
        {
          "data": {
            "text/plain": [
              "'E. Boal'"
            ]
          },
          "execution_count": 32,
          "metadata": {},
          "output_type": "execute_result"
        }
      ],
      "source": [
        "name[name.find(' ')+1:]"
      ]
    },
    {
      "cell_type": "code",
      "execution_count": null,
      "metadata": {
        "id": "6LZFuJbbs6J5",
        "outputId": "1cb3302a-d6b7-46e8-f132-4046e34fb49c"
      },
      "outputs": [
        {
          "data": {
            "text/plain": [
              "'E. Boal'"
            ]
          },
          "execution_count": 33,
          "metadata": {},
          "output_type": "execute_result"
        }
      ],
      "source": [
        "pos_of_middle_name = name.find(' ') + 1\n",
        "middle_and_last = name[pos_of_middle_name:]\n",
        "middle_and_last"
      ]
    },
    {
      "cell_type": "code",
      "execution_count": null,
      "metadata": {
        "id": "JJga8EqCs6KG",
        "outputId": "d94cc277-a842-440c-d275-3aa7e5204256"
      },
      "outputs": [
        {
          "data": {
            "text/plain": [
              "'Boal'"
            ]
          },
          "execution_count": 34,
          "metadata": {},
          "output_type": "execute_result"
        }
      ],
      "source": [
        "# Position of the middle name is up to the first space\n",
        "pos_of_middle_name = name.find(' ') + 1\n",
        "\n",
        "middle_and_last = name[pos_of_middle_name:]\n",
        "\n",
        "# Position of the last name is the position of the first space after the end of the first name\n",
        "pos_of_last = middle_and_last.find(' ') + 1\n",
        "\n",
        "middle_and_last[pos_of_last:]"
      ]
    },
    {
      "cell_type": "code",
      "execution_count": null,
      "metadata": {
        "id": "_-I61XmNs6KG",
        "outputId": "a64fc636-0fef-4efa-ea8a-657c65e7633a"
      },
      "outputs": [
        {
          "data": {
            "text/plain": [
              "'Paul E. Boal'"
            ]
          },
          "execution_count": 35,
          "metadata": {},
          "output_type": "execute_result"
        }
      ],
      "source": [
        "name"
      ]
    },
    {
      "cell_type": "code",
      "execution_count": null,
      "metadata": {
        "id": "zEOqhdbAs6KG",
        "outputId": "18bb95ff-110e-4143-dea5-55bf6c71e9ab"
      },
      "outputs": [
        {
          "data": {
            "text/plain": [
              "['Paul', 'E.', 'Boal']"
            ]
          },
          "execution_count": 36,
          "metadata": {},
          "output_type": "execute_result"
        }
      ],
      "source": [
        "name.split(' ')"
      ]
    },
    {
      "cell_type": "markdown",
      "metadata": {
        "id": "UjKUW4n4s6KH"
      },
      "source": [
        "## Splitting Strings"
      ]
    },
    {
      "cell_type": "code",
      "execution_count": null,
      "metadata": {
        "id": "8wgYVfsts6KH"
      },
      "outputs": [],
      "source": [
        "names=\"Paul,Sarahlynn,Ellie,Ada,Teddy\""
      ]
    },
    {
      "cell_type": "code",
      "execution_count": null,
      "metadata": {
        "id": "peqWE-w5s6KH"
      },
      "outputs": [],
      "source": [
        "names.split(',')"
      ]
    },
    {
      "cell_type": "code",
      "execution_count": null,
      "metadata": {
        "id": "ozfmk9Gjs6KH"
      },
      "outputs": [],
      "source": [
        "names=\"Paul, Sarahlynn, Ellie, Ada, Teddy\""
      ]
    },
    {
      "cell_type": "code",
      "execution_count": null,
      "metadata": {
        "id": "9MKx7eJSs6KH"
      },
      "outputs": [],
      "source": [
        "\n",
        "names.split(',')"
      ]
    },
    {
      "cell_type": "code",
      "execution_count": null,
      "metadata": {
        "id": "aCpGUfDgs6KH"
      },
      "outputs": [],
      "source": [
        "names.split(', ')"
      ]
    },
    {
      "cell_type": "markdown",
      "metadata": {
        "id": "uW8fUJ7Ws6KH"
      },
      "source": [
        "## Find the Nth Occurrence of a String"
      ]
    },
    {
      "cell_type": "code",
      "execution_count": null,
      "metadata": {
        "id": "7jYCgPRLs6KH"
      },
      "outputs": [],
      "source": [
        "our_string = \"love is love is love is love\""
      ]
    },
    {
      "cell_type": "code",
      "execution_count": null,
      "metadata": {
        "id": "oOhb8dCZs6KH",
        "outputId": "8da1450d-4d39-4191-e4c5-69ecd1622be2"
      },
      "outputs": [
        {
          "data": {
            "text/plain": [
              "0"
            ]
          },
          "execution_count": 40,
          "metadata": {},
          "output_type": "execute_result"
        }
      ],
      "source": [
        "first_love = our_string.find(\"love\")\n",
        "first_love"
      ]
    },
    {
      "cell_type": "code",
      "execution_count": null,
      "metadata": {
        "id": "b2d_HokNs6KH",
        "outputId": "9d81b125-aba6-4cb4-ff40-d1528d2993fe"
      },
      "outputs": [
        {
          "data": {
            "text/plain": [
              "8"
            ]
          },
          "execution_count": 41,
          "metadata": {},
          "output_type": "execute_result"
        }
      ],
      "source": [
        "second_love = our_string.find(\"love\", first_love+1)\n",
        "second_love"
      ]
    },
    {
      "cell_type": "code",
      "execution_count": null,
      "metadata": {
        "id": "Eh7HftH2s6KH",
        "outputId": "2adf4a1f-6606-4acb-93ab-6c5faa27579a"
      },
      "outputs": [
        {
          "data": {
            "text/plain": [
              "16"
            ]
          },
          "execution_count": 42,
          "metadata": {},
          "output_type": "execute_result"
        }
      ],
      "source": [
        "third_love = our_string.find(\"love\", second_love+1)\n",
        "third_love"
      ]
    },
    {
      "cell_type": "code",
      "execution_count": null,
      "metadata": {
        "id": "0AU3W_xZs6KI"
      },
      "outputs": [],
      "source": []
    },
    {
      "cell_type": "code",
      "execution_count": null,
      "metadata": {
        "id": "410kyAUYs6KI"
      },
      "outputs": [],
      "source": [
        "def find_nth(str_to_search, for_str, nth):\n",
        "\n",
        "    start = 0\n",
        "    for i in range(1, nth+1):\n",
        "        pos = str_to_search.find(for_str, start)\n",
        "        if pos == -1:\n",
        "            return -1\n",
        "        else:\n",
        "            start = pos+1\n",
        "\n",
        "    return pos"
      ]
    },
    {
      "cell_type": "code",
      "execution_count": null,
      "metadata": {
        "id": "ar_p3pUVs6KI",
        "outputId": "53de2f8d-b0c1-42d3-ea87-f06bbe6b2d73"
      },
      "outputs": [
        {
          "data": {
            "text/plain": [
              "24"
            ]
          },
          "execution_count": 48,
          "metadata": {},
          "output_type": "execute_result"
        }
      ],
      "source": [
        "find_nth(our_string, \"love\", 4)"
      ]
    },
    {
      "cell_type": "code",
      "execution_count": null,
      "metadata": {
        "id": "oBfU_enFs6KI",
        "outputId": "3aa1daea-6278-45e1-f128-90fb91bd89e4"
      },
      "outputs": [
        {
          "data": {
            "text/plain": [
              "5"
            ]
          },
          "execution_count": 51,
          "metadata": {},
          "output_type": "execute_result"
        }
      ],
      "source": [
        "find_nth(our_string, \"is\", 1)"
      ]
    },
    {
      "cell_type": "code",
      "execution_count": null,
      "metadata": {
        "id": "4QgjIFecs6KI",
        "outputId": "e82045ac-f6ed-4506-9767-48c8c4eea883"
      },
      "outputs": [
        {
          "name": "stdout",
          "output_type": "stream",
          "text": [
            "0\n",
            "8\n",
            "16\n",
            "24\n",
            "-1\n",
            "-1\n",
            "-1\n",
            "-1\n",
            "-1\n"
          ]
        }
      ],
      "source": [
        "for n in range(1,10):\n",
        "    pos = find_nth(our_string, \"love\", n)\n",
        "    print(pos)"
      ]
    },
    {
      "cell_type": "code",
      "execution_count": null,
      "metadata": {
        "id": "8ycyiBLPs6KI"
      },
      "outputs": [],
      "source": [
        "def find_nth(str_to_search, for_str, nth, base=0):\n",
        "\n",
        "    first = str_to_search.find(for_str)\n",
        "    #print(nth, str_to_search)\n",
        "\n",
        "    if first == -1 and nth == 1:\n",
        "        return -1\n",
        "    elif nth == 1:\n",
        "        return first + base\n",
        "    else:\n",
        "        return find_nth(str_to_search[first+1:], for_str, nth-1, base+first+1)\n"
      ]
    },
    {
      "cell_type": "code",
      "execution_count": null,
      "metadata": {
        "id": "d1RoTrEcs6KI",
        "outputId": "e028b071-edbe-452e-ccde-bdd2da04ad45"
      },
      "outputs": [
        {
          "name": "stdout",
          "output_type": "stream",
          "text": [
            "0\n",
            "8\n",
            "16\n",
            "24\n",
            "-1\n",
            "-1\n",
            "-1\n",
            "-1\n",
            "-1\n"
          ]
        }
      ],
      "source": [
        "for n in range(1,10):\n",
        "    pos = find_nth(\"love is love is love is love\", \"love\", n)\n",
        "    print(pos)"
      ]
    },
    {
      "cell_type": "code",
      "execution_count": null,
      "metadata": {
        "id": "pnJIVI0ds6KI"
      },
      "outputs": [],
      "source": []
    }
  ],
  "metadata": {
    "kernelspec": {
      "display_name": "Python 3",
      "language": "python",
      "name": "python3"
    },
    "language_info": {
      "codemirror_mode": {
        "name": "ipython",
        "version": 3
      },
      "file_extension": ".py",
      "mimetype": "text/x-python",
      "name": "python",
      "nbconvert_exporter": "python",
      "pygments_lexer": "ipython3",
      "version": "3.6.7"
    },
    "colab": {
      "provenance": [],
      "include_colab_link": true
    }
  },
  "nbformat": 4,
  "nbformat_minor": 0
}