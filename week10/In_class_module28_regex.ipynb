{
  "cells": [
    {
      "cell_type": "markdown",
      "metadata": {
        "id": "view-in-github",
        "colab_type": "text"
      },
      "source": [
        "<a href=\"https://colab.research.google.com/github/TongSii/hds5210-2025/blob/main/week10/In_class_module28_regex.ipynb\" target=\"_parent\"><img src=\"https://colab.research.google.com/assets/colab-badge.svg\" alt=\"Open In Colab\"/></a>"
      ]
    },
    {
      "cell_type": "markdown",
      "metadata": {
        "id": "MRlnG_L30qHR"
      },
      "source": [
        "# Regular Expressions\n",
        "\n",
        "Regular Expressions can be hard. Luckily, there are some great online tools to help you build and test them:\n",
        "\n",
        "https://regex101.com/\n",
        "\n",
        "---"
      ]
    },
    {
      "cell_type": "code",
      "execution_count": 1,
      "metadata": {
        "id": "ObA76HSx0qHS"
      },
      "outputs": [],
      "source": [
        "import re"
      ]
    },
    {
      "cell_type": "code",
      "execution_count": null,
      "metadata": {
        "id": "FQfDuj9A0qHT"
      },
      "outputs": [],
      "source": [
        "phone1 = \"314-598-5494\""
      ]
    },
    {
      "cell_type": "code",
      "execution_count": null,
      "metadata": {
        "id": "cE7H7E_r0qHT"
      },
      "outputs": [],
      "source": [
        "matches = re.match(r\"(\\d{3})-(\\d{3})-(\\d{4})\",phone1)"
      ]
    },
    {
      "cell_type": "code",
      "execution_count": null,
      "metadata": {
        "id": "0tVWC8qo0qHT",
        "outputId": "ecee92a3-8f23-4618-a64c-4376d1b1c566"
      },
      "outputs": [
        {
          "data": {
            "text/plain": [
              "'314-598-5494'"
            ]
          },
          "execution_count": 9,
          "metadata": {},
          "output_type": "execute_result"
        }
      ],
      "source": [
        "matches.group(0)"
      ]
    },
    {
      "cell_type": "code",
      "execution_count": null,
      "metadata": {
        "id": "_OknV6K-0qHT"
      },
      "outputs": [],
      "source": [
        "phones = [\n",
        "    '314-598-5494',\n",
        "    '(555) 321-1234',\n",
        "    '+1 555-123-4567'\n",
        "]"
      ]
    },
    {
      "cell_type": "code",
      "execution_count": null,
      "metadata": {
        "id": "KGT_aaXa0qHU",
        "outputId": "c296a1fb-7bd7-47ba-d116-db6a5af28466"
      },
      "outputs": [
        {
          "name": "stdout",
          "output_type": "stream",
          "text": [
            "314-598-5494\n",
            "(555) 321-1234\n",
            "Doesn't match: +1 555-123-4567\n"
          ]
        }
      ],
      "source": [
        "for phone in phones:\n",
        "    matches = re.match(r\"(\\(?\\d{3}\\)?)[-\\ ](\\d{3})-(\\d{4})\", phone)\n",
        "    if matches is None:\n",
        "        print(f\"Doesn't match: {phone}\")\n",
        "    else:\n",
        "        print(matches.group(0))"
      ]
    },
    {
      "cell_type": "markdown",
      "metadata": {
        "id": "RU2NEHBK0qHU"
      },
      "source": [
        "# Name Parsing"
      ]
    },
    {
      "cell_type": "code",
      "execution_count": 2,
      "metadata": {
        "id": "t6s6A5Gr0qHU"
      },
      "outputs": [],
      "source": [
        "# Names are formatted as First MI. Last\n",
        "name=\"Paul E. Boal\""
      ]
    },
    {
      "cell_type": "code",
      "execution_count": 3,
      "metadata": {
        "id": "N-aPqW1V0qHU"
      },
      "outputs": [],
      "source": [
        "matches = re.match(r\"^([\\w]+) ([A-Z])\\. ([\\w]+)\", name)# r: regular expression +: one or more"
      ]
    },
    {
      "cell_type": "code",
      "source": [
        "type(matches)"
      ],
      "metadata": {
        "colab": {
          "base_uri": "https://localhost:8080/"
        },
        "id": "CqoTBshF3IOc",
        "outputId": "7cd143e0-891a-4ebf-ec46-9306de1e4dcd"
      },
      "execution_count": 4,
      "outputs": [
        {
          "output_type": "execute_result",
          "data": {
            "text/plain": [
              "re.Match"
            ]
          },
          "metadata": {},
          "execution_count": 4
        }
      ]
    },
    {
      "cell_type": "code",
      "source": [
        "dir(matches)"
      ],
      "metadata": {
        "collapsed": true,
        "colab": {
          "base_uri": "https://localhost:8080/"
        },
        "id": "btD5Z2-C3PWP",
        "outputId": "9a787a0d-11f5-4886-ee37-f90b68ba7168"
      },
      "execution_count": 5,
      "outputs": [
        {
          "output_type": "execute_result",
          "data": {
            "text/plain": [
              "['__class__',\n",
              " '__class_getitem__',\n",
              " '__copy__',\n",
              " '__deepcopy__',\n",
              " '__delattr__',\n",
              " '__dir__',\n",
              " '__doc__',\n",
              " '__eq__',\n",
              " '__format__',\n",
              " '__ge__',\n",
              " '__getattribute__',\n",
              " '__getitem__',\n",
              " '__getstate__',\n",
              " '__gt__',\n",
              " '__hash__',\n",
              " '__init__',\n",
              " '__init_subclass__',\n",
              " '__le__',\n",
              " '__lt__',\n",
              " '__module__',\n",
              " '__ne__',\n",
              " '__new__',\n",
              " '__reduce__',\n",
              " '__reduce_ex__',\n",
              " '__repr__',\n",
              " '__setattr__',\n",
              " '__sizeof__',\n",
              " '__str__',\n",
              " '__subclasshook__',\n",
              " 'end',\n",
              " 'endpos',\n",
              " 'expand',\n",
              " 'group',\n",
              " 'groupdict',\n",
              " 'groups',\n",
              " 'lastgroup',\n",
              " 'lastindex',\n",
              " 'pos',\n",
              " 're',\n",
              " 'regs',\n",
              " 'span',\n",
              " 'start',\n",
              " 'string']"
            ]
          },
          "metadata": {},
          "execution_count": 5
        }
      ]
    },
    {
      "cell_type": "code",
      "source": [
        "help(matches.group)"
      ],
      "metadata": {
        "colab": {
          "base_uri": "https://localhost:8080/"
        },
        "id": "myS_rGnj3VLR",
        "outputId": "6f247278-e7cd-4a2f-cb3d-f85b877c0fa9"
      },
      "execution_count": 6,
      "outputs": [
        {
          "output_type": "stream",
          "name": "stdout",
          "text": [
            "Help on built-in function group:\n",
            "\n",
            "group(...) method of re.Match instance\n",
            "    group([group1, ...]) -> str or tuple.\n",
            "    Return subgroup(s) of the match by indices or names.\n",
            "    For 0 returns the entire match.\n",
            "\n"
          ]
        }
      ]
    },
    {
      "cell_type": "code",
      "execution_count": null,
      "metadata": {
        "id": "B7vpjL2U0qHU",
        "outputId": "3d517a6d-e11e-442f-8583-10b5af6e5f8c"
      },
      "outputs": [
        {
          "data": {
            "text/plain": [
              "'Paul E. Boal'"
            ]
          },
          "execution_count": 10,
          "metadata": {},
          "output_type": "execute_result"
        }
      ],
      "source": [
        "# The whole match\n",
        "matches.group(0)"
      ]
    },
    {
      "cell_type": "code",
      "execution_count": null,
      "metadata": {
        "id": "SPunLDm10qHU",
        "outputId": "f68eb1d2-db16-4827-c2fa-39b4a5934ac7"
      },
      "outputs": [
        {
          "data": {
            "text/plain": [
              "'Paul'"
            ]
          },
          "execution_count": 11,
          "metadata": {},
          "output_type": "execute_result"
        }
      ],
      "source": [
        "# THe first subgroup\n",
        "matches.group(1)"
      ]
    },
    {
      "cell_type": "code",
      "execution_count": null,
      "metadata": {
        "id": "tYPUJJF40qHV",
        "outputId": "2c7633ff-8f2d-4142-8e6c-16f583cd00fd"
      },
      "outputs": [
        {
          "data": {
            "text/plain": [
              "'E'"
            ]
          },
          "execution_count": 12,
          "metadata": {},
          "output_type": "execute_result"
        }
      ],
      "source": [
        "matches.group(2)"
      ]
    },
    {
      "cell_type": "code",
      "execution_count": null,
      "metadata": {
        "id": "Ijl6ckAi0qHV",
        "outputId": "8b42e0a0-c53b-4297-c088-5e8947e57962"
      },
      "outputs": [
        {
          "data": {
            "text/plain": [
              "'Boal'"
            ]
          },
          "execution_count": 13,
          "metadata": {},
          "output_type": "execute_result"
        }
      ],
      "source": [
        "matches.group(3)"
      ]
    },
    {
      "cell_type": "markdown",
      "metadata": {
        "id": "Emq86t__0qHV"
      },
      "source": [
        "# Add on Credentials!"
      ]
    },
    {
      "cell_type": "code",
      "execution_count": 7,
      "metadata": {
        "id": "OydqElou0qHV"
      },
      "outputs": [],
      "source": [
        "names = [\n",
        "    \"Steven G. Sanders, MD\",\n",
        "    \"Alice D. Edwards, PhD\",\n",
        "    \"Joseph B. Lester, MD, PhD\"\n",
        "]"
      ]
    },
    {
      "cell_type": "code",
      "execution_count": 8,
      "metadata": {
        "id": "gkybNJ7j0qHV",
        "outputId": "2f3984b8-fa14-4fd6-d7ee-621f66872ae2",
        "colab": {
          "base_uri": "https://localhost:8080/"
        }
      },
      "outputs": [
        {
          "output_type": "stream",
          "name": "stdout",
          "text": [
            "['Steven', 'G', 'Sanders', ['MD']]\n",
            "['Alice', 'D', 'Edwards', ['PhD']]\n",
            "['Joseph', 'B', 'Lester', ['MD', 'PhD']]\n"
          ]
        }
      ],
      "source": [
        "for name in names:\n",
        "    matches = re.match(r\"^([\\w]+) ([A-Z])\\. ([\\w]+), ([\\w\\.\\, ]+)\", name)\n",
        "    first = matches.group(1)\n",
        "    middle = matches.group(2)\n",
        "    last = matches.group(3)\n",
        "    creds = matches.group(4).split(', ')\n",
        "    print([first, middle, last, creds])"
      ]
    },
    {
      "cell_type": "markdown",
      "metadata": {
        "id": "IzlzZYBP0qHV"
      },
      "source": [
        "# Date of Birth\n",
        "\n",
        "Month ##, ####"
      ]
    },
    {
      "cell_type": "code",
      "execution_count": 9,
      "metadata": {
        "id": "YMallQmx0qHV"
      },
      "outputs": [],
      "source": [
        "birthday=\"March 25, 2011\""
      ]
    },
    {
      "cell_type": "code",
      "execution_count": 11,
      "metadata": {
        "id": "aCNCgCLD0qHV"
      },
      "outputs": [],
      "source": [
        "matches = re.match(r\"([a-zA-Z]+) ([0-9]{1,2}), ([0-9]{4})\", birthday) #{1,2} 1 or 2 {1,5} 1-5"
      ]
    },
    {
      "cell_type": "code",
      "execution_count": null,
      "metadata": {
        "id": "1t0lnAbA0qHV",
        "outputId": "bb6c28f5-1c0a-4664-8f9f-72a2ffdf339e"
      },
      "outputs": [
        {
          "data": {
            "text/plain": [
              "'March 25, 2011'"
            ]
          },
          "execution_count": 20,
          "metadata": {},
          "output_type": "execute_result"
        }
      ],
      "source": [
        "matches.group(0)"
      ]
    },
    {
      "cell_type": "code",
      "execution_count": null,
      "metadata": {
        "id": "EKoDKy4I0qHV",
        "outputId": "c642f9c5-2277-4177-b59e-9d669289aac7"
      },
      "outputs": [
        {
          "data": {
            "text/plain": [
              "'March'"
            ]
          },
          "execution_count": 21,
          "metadata": {},
          "output_type": "execute_result"
        }
      ],
      "source": [
        "matches.group(1)"
      ]
    },
    {
      "cell_type": "code",
      "execution_count": null,
      "metadata": {
        "id": "iLu2HFtk0qHW",
        "outputId": "3f7a1706-c7c0-4b58-d95e-47b18a776299"
      },
      "outputs": [
        {
          "data": {
            "text/plain": [
              "'25'"
            ]
          },
          "execution_count": 22,
          "metadata": {},
          "output_type": "execute_result"
        }
      ],
      "source": [
        "matches.group(2)"
      ]
    },
    {
      "cell_type": "code",
      "execution_count": null,
      "metadata": {
        "id": "9Jaqgso90qHW",
        "outputId": "d065224f-eafc-4d2f-e02e-e7b4f75e8aa8"
      },
      "outputs": [
        {
          "data": {
            "text/plain": [
              "'2011'"
            ]
          },
          "execution_count": 23,
          "metadata": {},
          "output_type": "execute_result"
        }
      ],
      "source": [
        "matches.group(3)"
      ]
    },
    {
      "cell_type": "code",
      "execution_count": null,
      "metadata": {
        "id": "l-HgPgB50qHW"
      },
      "outputs": [],
      "source": []
    }
  ],
  "metadata": {
    "kernelspec": {
      "display_name": "Python 3",
      "language": "python",
      "name": "python3"
    },
    "language_info": {
      "codemirror_mode": {
        "name": "ipython",
        "version": 3
      },
      "file_extension": ".py",
      "mimetype": "text/x-python",
      "name": "python",
      "nbconvert_exporter": "python",
      "pygments_lexer": "ipython3",
      "version": "3.6.7"
    },
    "colab": {
      "provenance": [],
      "include_colab_link": true
    }
  },
  "nbformat": 4,
  "nbformat_minor": 0
}