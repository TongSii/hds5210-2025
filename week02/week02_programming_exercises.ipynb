{
  "nbformat": 4,
  "nbformat_minor": 5,
  "metadata": {
    "kernelspec": {
      "display_name": "Python 3",
      "language": "python",
      "name": "python3"
    },
    "language_info": {
      "name": "python",
      "version": "3.x"
    },
    "colab": {
      "provenance": [],
      "include_colab_link": true
    }
  },
  "cells": [
    {
      "cell_type": "markdown",
      "metadata": {
        "id": "view-in-github",
        "colab_type": "text"
      },
      "source": [
        "<a href=\"https://colab.research.google.com/github/TongSii/hds5210-2025/blob/main/week02/week02_programming_exercises.ipynb\" target=\"_parent\"><img src=\"https://colab.research.google.com/assets/colab-badge.svg\" alt=\"Open In Colab\"/></a>"
      ]
    },
    {
      "cell_type": "markdown",
      "metadata": {
        "id": "hhkyAJuVNci9"
      },
      "source": [
        "# Week 2 Programming Exercises\n",
        "\n",
        "See *McKinney 2.3* and Python docs §3.1.1 on using Python as a calculator.\n",
        "\n",
        "All problems follow the same pattern: **edit only the code between `### BEGIN SOLUTION` and `### END SOLUTION`**.\n",
        "Assertions are provided under each function.\n"
      ],
      "id": "hhkyAJuVNci9"
    },
    {
      "cell_type": "markdown",
      "metadata": {
        "id": "Itcd2PnQNci_"
      },
      "source": [
        "### What I provide\n",
        "```python\n",
        "def some_function(parameter1, parameter2):\n",
        "    ### BEGIN SOLUTION\n",
        "    x = -1\n",
        "    ### END SOLUTION\n",
        "    return x\n",
        "```\n"
      ],
      "id": "Itcd2PnQNci_"
    },
    {
      "cell_type": "markdown",
      "metadata": {
        "id": "pHJlUN45Nci_"
      },
      "source": [
        "### What you should do\n",
        "```python\n",
        "def some_function(a, b):\n",
        "    ### BEGIN SOLUTION\n",
        "    temp = a + b\n",
        "    x = temp / a * b\n",
        "    ### END SOLUTION\n",
        "    return x\n",
        "```\n"
      ],
      "id": "pHJlUN45Nci_"
    },
    {
      "cell_type": "markdown",
      "metadata": {
        "id": "63ZiC8MCNci_"
      },
      "source": [
        "Below each exercise are tests (**assert** statements). If any fail, revise your code.  \n",
        "Please **do not rename functions**.\n"
      ],
      "id": "63ZiC8MCNci_"
    },
    {
      "cell_type": "markdown",
      "metadata": {
        "id": "cZT3vdQMNci_"
      },
      "source": [
        "## 5.1 BMI Calculation\n",
        "\n",
        "Given **weight** (kg) and **height** (m), compute **BMI**.\n",
        "\n",
        "**Formula:**  \n",
        "$\n",
        "\\mathrm{bmi} \\;=\\; \\frac{\\mathrm{weight}_{kg}}{\\left(\\mathrm{height}_{m}\\right)^2}\n",
        "$\n",
        "\n",
        "Sanity‑check values:\n",
        "- $ \\mathrm{weight}_{kg} = 90.7 $\n",
        "- $ \\mathrm{height}_{m} = 1.82 $\n",
        "Expected rounded BMI: **27.38**\n"
      ],
      "id": "cZT3vdQMNci_"
    },
    {
      "cell_type": "code",
      "metadata": {
        "id": "jUxjnMnSNcjA"
      },
      "execution_count": null,
      "outputs": [],
      "source": [
        "def bmi(weight_kg, height_m):\n",
        "    # Body Mass Index: kg / m^2\n",
        "    ### BEGIN SOLUTION\n",
        "    answer = -1\n",
        "    ### END SOLUTION\n",
        "    return answer\n"
      ],
      "id": "jUxjnMnSNcjA"
    },
    {
      "cell_type": "code",
      "metadata": {
        "id": "cRfOOVHHNcjA"
      },
      "execution_count": null,
      "outputs": [],
      "source": [
        "# Tests\n",
        "assert round(bmi(90.7, 1.82), 2) == 27.38\n",
        "assert round(bmi(91, 1.80), 2) == 28.09\n",
        "assert round(bmi(70, 1.70), 2) == 24.22\n"
      ],
      "id": "cRfOOVHHNcjA"
    },
    {
      "cell_type": "markdown",
      "metadata": {
        "id": "_97pU6vgNcjA"
      },
      "source": [
        "## 5.2 Weight from BMI\n",
        "\n",
        "Given **BMI** and **height** (m), compute **weight** in kilograms.\n",
        "\n",
        "**Formula:**  \n",
        "$\n",
        "\\mathrm{weight}_{kg} \\;=\\; \\mathrm{bmi} \\times \\left(\\mathrm{height}_{m}\\right)^2\n",
        "$\n"
      ],
      "id": "_97pU6vgNcjA"
    },
    {
      "cell_type": "code",
      "metadata": {
        "id": "Vccao4f2NcjB"
      },
      "execution_count": null,
      "outputs": [],
      "source": [
        "def weight(bmi, height_m):\n",
        "    # Weight in kg from BMI and height (m).\n",
        "    ### BEGIN SOLUTION\n",
        "    w = -1\n",
        "    ### END SOLUTION\n",
        "    return w\n"
      ],
      "id": "Vccao4f2NcjB"
    },
    {
      "cell_type": "code",
      "metadata": {
        "id": "QX4fyqnwNcjB"
      },
      "execution_count": null,
      "outputs": [],
      "source": [
        "# Tests\n",
        "assert round(weight(27.38, 1.82), 2) == 90.69\n",
        "assert round(weight(28.09, 1.80), 2) == 91.01\n",
        "assert round(weight(24.22, 1.70), 2) == 70.00\n"
      ],
      "id": "QX4fyqnwNcjB"
    },
    {
      "cell_type": "markdown",
      "metadata": {
        "id": "rPRcp7qiNcjB"
      },
      "source": [
        "## 5.3 Height from BMI\n",
        "\n",
        "Given **BMI** and **weight** (kg), compute **height** in meters.\n",
        "\n",
        "**Formula:**  \n",
        "$\n",
        "\\mathrm{height}_{m} \\;=\\; \\sqrt{\\frac{\\mathrm{weight}_{kg}}{\\mathrm{bmi}}}\n",
        "$\n",
        "\n",
        "Note: we import `sqrt` from Python's `math` library.\n"
      ],
      "id": "rPRcp7qiNcjB"
    },
    {
      "cell_type": "code",
      "metadata": {
        "id": "ob1trSeINcjB"
      },
      "execution_count": null,
      "outputs": [],
      "source": [
        "from math import sqrt\n",
        "\n",
        "def height(bmi, weight_kg):\n",
        "    # Height in meters from BMI and kg.\n",
        "    ### BEGIN SOLUTION\n",
        "    h = -1\n",
        "    ### END SOLUTION\n",
        "    return h\n"
      ],
      "id": "ob1trSeINcjB"
    },
    {
      "cell_type": "code",
      "metadata": {
        "id": "YsMU1w6VNcjB"
      },
      "execution_count": null,
      "outputs": [],
      "source": [
        "# Tests\n",
        "assert round(height(27.38, 90.69), 2) == 1.82\n",
        "assert round(height(28.09, 91.01), 2) == 1.80\n",
        "assert round(height(24.22, 70.00), 2) == 1.70\n"
      ],
      "id": "YsMU1w6VNcjB"
    },
    {
      "cell_type": "markdown",
      "metadata": {
        "id": "Bx0FSSYlNcjB"
      },
      "source": [
        "## 5.4 BMI using Feet, Inches, and Pounds\n",
        "\n",
        "Convert **US units** to **SI units** before computing BMI.\n",
        "\n",
        "**Unit conversions:**  \n",
        "$\n",
        "1~\\text{inch} = 2.54~\\text{cm} = 0.0254~\\text{m},\\qquad\n",
        "$\n",
        "\n",
        "$\n",
        "1~\\text{lb} = 0.45454545~\\text{kg}\n",
        "$"
      ],
      "id": "Bx0FSSYlNcjB"
    },
    {
      "cell_type": "code",
      "metadata": {
        "id": "DQUjvr8vNcjC"
      },
      "execution_count": null,
      "outputs": [],
      "source": [
        "def bmi_us(weight_lb, height_ft, height_in):\n",
        "    # Compute BMI from pounds and feet/inches using the stated conversions.\n",
        "    ### BEGIN SOLUTION\n",
        "    answer = -1\n",
        "    ### END SOLUTION\n",
        "    return answer\n"
      ],
      "id": "DQUjvr8vNcjC"
    },
    {
      "cell_type": "markdown",
      "metadata": {
        "id": "-vm_sqKnPjIg"
      },
      "source": [
        "## 5.5 Target BMI\n",
        "\n",
        "Assuming that someone doesn’t change height over time, what is the approximate number of days it will take for someone to get from the BMI you found in #3 above to a BMI of 24.9 (typically regarded as being in a healthy range) while losing weight at a rate of 0.75 kg per week.\n",
        "\n",
        "As needed, use variables and multiple calculation steps to make your thought process visible in the code. For instance, rather than using the notebook as a calculator, use variables for intermediate answers.\n",
        "\n",
        "Again, you will receive points both for correct answers as well as for style.\n",
        "\n",
        "In addition to the bmi, height, and weight equations we already defined above, here is some of the algebra to help you along:\n",
        "\n",
        "**Formulas:**\n",
        "\n",
        "$\n",
        "\\text{height}_{m} = \\frac{\\text{height}_{cm}}{100}\n",
        "$\n",
        "\n",
        "$\n",
        "\\text{target weight}_{kg} = \\text{target bmi} \\times (\\text{height}_{m})^2\n",
        "$\n",
        "\n",
        "$\n",
        "\\text{weeks required} = \\frac{\\text{current weight} - \\text{target weight}}{\\text{kg cahnge per week}}\n",
        "$\n",
        "\n",
        "$\n",
        "\\text{days} = \\text{weeks required} \\times 7\n",
        "$\n"
      ],
      "id": "-vm_sqKnPjIg"
    },
    {
      "cell_type": "code",
      "metadata": {
        "id": "YD5E-IxURbtQ"
      },
      "execution_count": null,
      "outputs": [],
      "source": [
        "def lose_weight(weight, height, kg_per_week, target_bmi):\n",
        "    # Note that the variables you need are already named for you:\n",
        "    # height is the height in cm\n",
        "    # weight is the weight in kg\n",
        "    # kg_per_week is how much the person wants to lose per week\n",
        "    # target_bmi is the intended target bmi\n",
        "\n",
        "    ### BEGIN SOLUTION\n",
        "    days = -1\n",
        "    ### END SOLUTION\n",
        "\n",
        "    return days\n"
      ],
      "id": "YD5E-IxURbtQ"
    },
    {
      "cell_type": "code",
      "metadata": {
        "id": "d_cY_tDhRbtR"
      },
      "execution_count": null,
      "outputs": [],
      "source": [
        "# Test your code below. It should return approximately 76.73 days for the given parameters above.\n",
        "assert round(lose_weight(90.7, 182, 0.75, 24.9),2) == 76.73\n",
        "assert round(lose_weight(91, 180, 0.75, 24.9),2) == 96.36\n",
        "assert round(lose_weight(70, 170, 0.75, 22),2) == 59.92\n",
        "assert round(lose_weight(70, 170, 2, 22),2) == 22.47\n"
      ],
      "id": "d_cY_tDhRbtR"
    },
    {
      "cell_type": "code",
      "metadata": {
        "id": "vDdKTlahRbtR"
      },
      "execution_count": null,
      "outputs": [],
      "source": [
        "lose_weight(90.7, 182, 0.75, 24.9)\n"
      ],
      "id": "vDdKTlahRbtR"
    },
    {
      "cell_type": "markdown",
      "metadata": {
        "id": "svrx6_-ERbtR"
      },
      "source": [
        "## 5.6 Your choice\n",
        "\n",
        "Every one of us has done projects where some kind of simple mathematical calculators are required. Think about something recent from your field of expertise or an area of interest. Choose something that you find interesting and write the Python code required to do that calculation. These examples show the level of complexity you need to have (not very complex).\n",
        "\n",
        "- $\\mathrm{bmr}_{male} = 66 + (13.7 \\times \\text{weight}_{kg}) + (5 \\times \\text{height}_{m}) - (6.8 \\times \\text{age}_{yr})$\n",
        "- $\\mathrm{bmr}_{female} = 655 + (9.6 \\times \\text{weight}_{kg}) + (1.8 \\times \\text{height}_{cm}) - (4.7 \\times \\text{age}_{yr})$\n",
        "- Batting Average = $\\frac{\\text{Total Hits}}{\\text{Total at Bats}}$\n",
        "- Area of circle = $\\pi r^2$\n",
        "- $F = \\tfrac{1}{2} m v^2$\n",
        "\n",
        "Then provide the code for how you would use variables and example values to do the calculation. You do not to wrap this in a Python function. Just include the code and variables as I've shown below with the BMI calculation that we've been using. As the last command in the cell, print out the value of your calculation as shown in my example.\n"
      ],
      "id": "svrx6_-ERbtR"
    },
    {
      "cell_type": "code",
      "metadata": {
        "id": "P5-wv1lLRbtR"
      },
      "execution_count": null,
      "outputs": [],
      "source": [
        "def my_function(a, b):\n",
        "    ### BEGIN SOLUTION\n",
        "    answer = -1\n",
        "    ### END SOLUTION\n",
        "    return c\n"
      ],
      "id": "P5-wv1lLRbtR"
    },
    {
      "cell_type": "code",
      "metadata": {
        "id": "7d2XY4QMRbtR"
      },
      "execution_count": null,
      "outputs": [],
      "source": [
        "my_function(1, 8)\n"
      ],
      "id": "7d2XY4QMRbtR"
    },
    {
      "cell_type": "code",
      "metadata": {
        "id": "PZN0yDRIRbtS"
      },
      "execution_count": null,
      "outputs": [],
      "source": [
        "my_function(2, 8)\n"
      ],
      "id": "PZN0yDRIRbtS"
    },
    {
      "cell_type": "markdown",
      "metadata": {
        "id": "_WKSCBL9RbtS"
      },
      "source": [
        "### Check your work above\n",
        "\n",
        "If you didn't get them all correct, take a few minutes to think through those that aren't correct.\n"
      ],
      "id": "_WKSCBL9RbtS"
    },
    {
      "cell_type": "markdown",
      "metadata": {
        "id": "JwUchcesRbtS"
      },
      "source": [
        "### Submitting Your Work\n"
      ],
      "id": "JwUchcesRbtS"
    }
  ]
}