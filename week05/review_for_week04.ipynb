{
  "nbformat": 4,
  "nbformat_minor": 0,
  "metadata": {
    "colab": {
      "provenance": [],
      "authorship_tag": "ABX9TyPsfoCQ01BApJ4HgG5nGIBL",
      "include_colab_link": true
    },
    "kernelspec": {
      "name": "python3",
      "display_name": "Python 3"
    },
    "language_info": {
      "name": "python"
    }
  },
  "cells": [
    {
      "cell_type": "markdown",
      "metadata": {
        "id": "view-in-github",
        "colab_type": "text"
      },
      "source": [
        "<a href=\"https://colab.research.google.com/github/TongSii/hds5210-2025/blob/main/week05/review_for_week04.ipynb\" target=\"_parent\"><img src=\"https://colab.research.google.com/assets/colab-badge.svg\" alt=\"Open In Colab\"/></a>"
      ]
    },
    {
      "cell_type": "markdown",
      "source": [
        "Step 1: Create a list of 3 items\n"
      ],
      "metadata": {
        "id": "S3SS1u7q0Yu-"
      }
    },
    {
      "cell_type": "markdown",
      "source": [
        "step2:Append 2 more items to the list"
      ],
      "metadata": {
        "id": "Ap3Vnfsx0bFc"
      }
    },
    {
      "cell_type": "markdown",
      "source": [
        "step3: Copy the list so we preserve the original"
      ],
      "metadata": {
        "id": "jp1faYxC0g_L"
      }
    },
    {
      "cell_type": "markdown",
      "source": [
        "Step 4: Slice the list to get a subset (e.g., top 3)"
      ],
      "metadata": {
        "id": "geGxJc9-0oNG"
      }
    },
    {
      "cell_type": "markdown",
      "source": [
        "Step 5: Create a dictionary from these 3 using item labels"
      ],
      "metadata": {
        "id": "9oPRBaBj0sXn"
      }
    },
    {
      "cell_type": "markdown",
      "source": [
        "Step 6: Add one more dictionary item manually"
      ],
      "metadata": {
        "id": "xozMKK0M01iU"
      }
    },
    {
      "cell_type": "markdown",
      "source": [
        "Step 7: Loop through the dictionary,to get   the square of values"
      ],
      "metadata": {
        "id": "GFWSms0f035f"
      }
    },
    {
      "cell_type": "markdown",
      "source": [
        "Step 8: Do the same using a dictionary comprehension"
      ],
      "metadata": {
        "id": "rie8utHM07z-"
      }
    },
    {
      "cell_type": "code",
      "source": [
        "print(\"Original Dictionary with Computed Squares:\")\n",
        "for k, v in my_dict.items():\n",
        "    print(f\"{k}: {v}\")"
      ],
      "metadata": {
        "colab": {
          "base_uri": "https://localhost:8080/"
        },
        "id": "G6Ytw6i91SoM",
        "outputId": "c8268748-2501-4cb9-f6ce-1b849dfd4207"
      },
      "execution_count": null,
      "outputs": [
        {
          "output_type": "stream",
          "name": "stdout",
          "text": [
            "Original Dictionary with Computed Squares:\n",
            "item 1: {'index': 0, 'value': 100, 'value_squared': 10000}\n",
            "item 2: {'index': 1, 'value': 200, 'value_squared': 40000}\n",
            "item 3: {'index': 2, 'value': 300, 'value_squared': 90000}\n",
            "item 4: {'index': 3, 'value': 400, 'value_squared': 160000}\n"
          ]
        }
      ]
    }
  ]
}