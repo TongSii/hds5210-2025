{
  "nbformat": 4,
  "nbformat_minor": 0,
  "metadata": {
    "colab": {
      "provenance": [],
      "authorship_tag": "ABX9TyPxPAsae4fa/RzjZXdyxY37",
      "include_colab_link": true
    },
    "kernelspec": {
      "name": "python3",
      "display_name": "Python 3"
    },
    "language_info": {
      "name": "python"
    }
  },
  "cells": [
    {
      "cell_type": "markdown",
      "metadata": {
        "id": "view-in-github",
        "colab_type": "text"
      },
      "source": [
        "<a href=\"https://colab.research.google.com/github/TongSii/hds5210-2025/blob/main/week05/review_for_week04_solution.ipynb\" target=\"_parent\"><img src=\"https://colab.research.google.com/assets/colab-badge.svg\" alt=\"Open In Colab\"/></a>"
      ]
    },
    {
      "cell_type": "markdown",
      "source": [
        "Step 1: Create a list of 3 items (100, 200,300)\n"
      ],
      "metadata": {
        "id": "S3SS1u7q0Yu-"
      }
    },
    {
      "cell_type": "code",
      "source": [
        "my_list = [100,200,300]"
      ],
      "metadata": {
        "id": "GtQhgmm-xU41"
      },
      "execution_count": 1,
      "outputs": []
    },
    {
      "cell_type": "markdown",
      "source": [
        "step2:Append 2 more items to the list"
      ],
      "metadata": {
        "id": "Ap3Vnfsx0bFc"
      }
    },
    {
      "cell_type": "code",
      "source": [
        "my_list.append(400)\n",
        "my_list.append(500)"
      ],
      "metadata": {
        "id": "v2EDT_r76-zq"
      },
      "execution_count": 2,
      "outputs": []
    },
    {
      "cell_type": "code",
      "source": [
        "my_list"
      ],
      "metadata": {
        "colab": {
          "base_uri": "https://localhost:8080/"
        },
        "id": "oIdlitTC7P20",
        "outputId": "294075e0-f21b-4087-b3f5-6d5709ef17ef"
      },
      "execution_count": 3,
      "outputs": [
        {
          "output_type": "execute_result",
          "data": {
            "text/plain": [
              "[100, 200, 300, 400, 500]"
            ]
          },
          "metadata": {},
          "execution_count": 3
        }
      ]
    },
    {
      "cell_type": "code",
      "source": [
        "my_list[6]"
      ],
      "metadata": {
        "colab": {
          "base_uri": "https://localhost:8080/",
          "height": 141
        },
        "id": "7UgpMEoL7ivt",
        "outputId": "a3dba700-cce0-4645-b995-02770c9c5e66"
      },
      "execution_count": 6,
      "outputs": [
        {
          "output_type": "error",
          "ename": "IndexError",
          "evalue": "list index out of range",
          "traceback": [
            "\u001b[0;31m---------------------------------------------------------------------------\u001b[0m",
            "\u001b[0;31mIndexError\u001b[0m                                Traceback (most recent call last)",
            "\u001b[0;32m/tmp/ipython-input-610176862.py\u001b[0m in \u001b[0;36m<cell line: 0>\u001b[0;34m()\u001b[0m\n\u001b[0;32m----> 1\u001b[0;31m \u001b[0mmy_list\u001b[0m\u001b[0;34m[\u001b[0m\u001b[0;36m6\u001b[0m\u001b[0;34m]\u001b[0m\u001b[0;34m\u001b[0m\u001b[0;34m\u001b[0m\u001b[0m\n\u001b[0m",
            "\u001b[0;31mIndexError\u001b[0m: list index out of range"
          ]
        }
      ]
    },
    {
      "cell_type": "markdown",
      "source": [
        "step3: Copy the list so we preserve the original"
      ],
      "metadata": {
        "id": "jp1faYxC0g_L"
      }
    },
    {
      "cell_type": "code",
      "source": [
        "my_newlist= my_list.copy()"
      ],
      "metadata": {
        "id": "91pipgJp7u2r"
      },
      "execution_count": 7,
      "outputs": []
    },
    {
      "cell_type": "code",
      "source": [
        "my_newlist"
      ],
      "metadata": {
        "colab": {
          "base_uri": "https://localhost:8080/"
        },
        "id": "XUaCWk7y8EV6",
        "outputId": "fa25da9a-6b87-48b8-9d3b-f630719822d2"
      },
      "execution_count": 8,
      "outputs": [
        {
          "output_type": "execute_result",
          "data": {
            "text/plain": [
              "[100, 200, 300, 400, 500]"
            ]
          },
          "metadata": {},
          "execution_count": 8
        }
      ]
    },
    {
      "cell_type": "markdown",
      "source": [
        "Step 4: Slice the list to get a subset (e.g., top 3)"
      ],
      "metadata": {
        "id": "geGxJc9-0oNG"
      }
    },
    {
      "cell_type": "code",
      "source": [
        "sliced_list = my_newlist[0:3]"
      ],
      "metadata": {
        "id": "EPNjWYtk8W5t"
      },
      "execution_count": 9,
      "outputs": []
    },
    {
      "cell_type": "code",
      "source": [
        "sliced_list"
      ],
      "metadata": {
        "colab": {
          "base_uri": "https://localhost:8080/"
        },
        "id": "k-DOM5Bd8okK",
        "outputId": "77c1edc9-23d5-4cb5-c19c-2c6f884f7e99"
      },
      "execution_count": 10,
      "outputs": [
        {
          "output_type": "execute_result",
          "data": {
            "text/plain": [
              "[100, 200, 300]"
            ]
          },
          "metadata": {},
          "execution_count": 10
        }
      ]
    },
    {
      "cell_type": "markdown",
      "source": [
        "Step 5: Create a dictionary from these 3 using item labels\n",
        "key: \"item1\",\"item2\"\n",
        "value: {\"index\": ,\"value\",}"
      ],
      "metadata": {
        "id": "9oPRBaBj0sXn"
      }
    },
    {
      "cell_type": "code",
      "source": [
        "my_dic={}\n",
        "\n",
        "for i in range(3):  #range(0,3,1) 0,1,2\n",
        "  key = f\"item{i+1}\"\n",
        "  value ={\n",
        "      'index':i,\n",
        "      'value':sliced_list[i]\n",
        "  }\n",
        "  my_dic[key]=value\n"
      ],
      "metadata": {
        "id": "6W435OI2-k3K"
      },
      "execution_count": 12,
      "outputs": []
    },
    {
      "cell_type": "code",
      "source": [
        "my_dic"
      ],
      "metadata": {
        "colab": {
          "base_uri": "https://localhost:8080/"
        },
        "id": "qZGBlcSWBmBr",
        "outputId": "2c59e3e4-515f-45f3-8b73-237932ed75f5"
      },
      "execution_count": 13,
      "outputs": [
        {
          "output_type": "execute_result",
          "data": {
            "text/plain": [
              "{'item1': {'index': 0, 'value': 100},\n",
              " 'item2': {'index': 1, 'value': 200},\n",
              " 'item3': {'index': 2, 'value': 300}}"
            ]
          },
          "metadata": {},
          "execution_count": 13
        }
      ]
    },
    {
      "cell_type": "code",
      "source": [
        "dic={\n",
        "    \"item1\":{\"index\": 0, \"value\":100}\n",
        "}"
      ],
      "metadata": {
        "id": "tzsC5LRo9RxY"
      },
      "execution_count": 11,
      "outputs": []
    },
    {
      "cell_type": "markdown",
      "source": [
        "Step 6: Add one more dictionary item manually"
      ],
      "metadata": {
        "id": "xozMKK0M01iU"
      }
    },
    {
      "cell_type": "code",
      "source": [
        "my_dic[\"item4\"] = {\"index\": 3, \"value\":400}"
      ],
      "metadata": {
        "id": "lS2NRVp6-4wS"
      },
      "execution_count": 14,
      "outputs": []
    },
    {
      "cell_type": "code",
      "source": [
        "my_dic"
      ],
      "metadata": {
        "colab": {
          "base_uri": "https://localhost:8080/"
        },
        "id": "Q_JXLg2bB8_-",
        "outputId": "e560515b-33af-49a5-984f-7edd9b362e33"
      },
      "execution_count": 15,
      "outputs": [
        {
          "output_type": "execute_result",
          "data": {
            "text/plain": [
              "{'item1': {'index': 0, 'value': 100},\n",
              " 'item2': {'index': 1, 'value': 200},\n",
              " 'item3': {'index': 2, 'value': 300},\n",
              " 'item4': {'index': 3, 'value': 400}}"
            ]
          },
          "metadata": {},
          "execution_count": 15
        }
      ]
    },
    {
      "cell_type": "markdown",
      "source": [
        "Step 7: Loop through the dictionary,to get   the square of values"
      ],
      "metadata": {
        "id": "GFWSms0f035f"
      }
    },
    {
      "cell_type": "code",
      "source": [
        "for k,v in my_dic.items():\n",
        "  v[\"value_squared\"]=v[\"value\"]**2"
      ],
      "metadata": {
        "id": "KXgwWXrvCC9v"
      },
      "execution_count": 20,
      "outputs": []
    },
    {
      "cell_type": "code",
      "source": [
        "my_dic"
      ],
      "metadata": {
        "colab": {
          "base_uri": "https://localhost:8080/"
        },
        "id": "SY5K6dJZD774",
        "outputId": "e722f9c9-b865-48b1-d538-583419426a13"
      },
      "execution_count": 21,
      "outputs": [
        {
          "output_type": "execute_result",
          "data": {
            "text/plain": [
              "{'item1': {'index': 0, 'value': 100, 'value_squared': 10000},\n",
              " 'item2': {'index': 1, 'value': 200, 'value_squared': 40000},\n",
              " 'item3': {'index': 2, 'value': 300, 'value_squared': 90000},\n",
              " 'item4': {'index': 3, 'value': 400, 'value_squared': 160000}}"
            ]
          },
          "metadata": {},
          "execution_count": 21
        }
      ]
    },
    {
      "cell_type": "code",
      "source": [
        "dic1={'index': 0, 'value': 100}"
      ],
      "metadata": {
        "id": "Yqjmhrj8ClJN"
      },
      "execution_count": 17,
      "outputs": []
    },
    {
      "cell_type": "code",
      "source": [
        "dic1[\"value\"]"
      ],
      "metadata": {
        "colab": {
          "base_uri": "https://localhost:8080/"
        },
        "id": "NcLPA9HxCvj6",
        "outputId": "5c62a287-803b-4b3f-cd01-3c36001034fd"
      },
      "execution_count": 18,
      "outputs": [
        {
          "output_type": "execute_result",
          "data": {
            "text/plain": [
              "100"
            ]
          },
          "metadata": {},
          "execution_count": 18
        }
      ]
    },
    {
      "cell_type": "markdown",
      "source": [
        "Step 8: Do the same using a dictionary comprehension"
      ],
      "metadata": {
        "id": "rie8utHM07z-"
      }
    },
    {
      "cell_type": "code",
      "source": [
        "my_dic"
      ],
      "metadata": {
        "colab": {
          "base_uri": "https://localhost:8080/"
        },
        "id": "3fGK4SpCEV2g",
        "outputId": "b301b2ee-4247-40f5-9798-cb1ba4617b2d"
      },
      "execution_count": 24,
      "outputs": [
        {
          "output_type": "execute_result",
          "data": {
            "text/plain": [
              "{'item1': {'index': 0, 'value': 100, 'value_squared': 10000},\n",
              " 'item2': {'index': 1, 'value': 200, 'value_squared': 40000},\n",
              " 'item3': {'index': 2, 'value': 300, 'value_squared': 90000},\n",
              " 'item4': {'index': 3, 'value': 400, 'value_squared': 160000}}"
            ]
          },
          "metadata": {},
          "execution_count": 24
        }
      ]
    },
    {
      "cell_type": "code",
      "source": [
        "print(\"Original Dictionary with Computed Squares:\")\n",
        "for k, v in my_dic.items():\n",
        "    print(f\"{k}: {v}\")"
      ],
      "metadata": {
        "colab": {
          "base_uri": "https://localhost:8080/"
        },
        "id": "G6Ytw6i91SoM",
        "outputId": "80615e5c-a10b-4b29-8aa2-1ea1890654b1"
      },
      "execution_count": 25,
      "outputs": [
        {
          "output_type": "stream",
          "name": "stdout",
          "text": [
            "Original Dictionary with Computed Squares:\n",
            "item1: {'index': 0, 'value': 100, 'value_squared': 10000}\n",
            "item2: {'index': 1, 'value': 200, 'value_squared': 40000}\n",
            "item3: {'index': 2, 'value': 300, 'value_squared': 90000}\n",
            "item4: {'index': 3, 'value': 400, 'value_squared': 160000}\n"
          ]
        }
      ]
    },
    {
      "cell_type": "code",
      "source": [
        " for k, v in my_dic.items()"
      ],
      "metadata": {
        "id": "HdRn4R7hEGJo"
      },
      "execution_count": null,
      "outputs": []
    },
    {
      "cell_type": "code",
      "source": [
        "my_dic={}\n",
        "\n",
        "for i in range(3):  #range(0,3,1) 0,1,2\n",
        "  key = f\"item{i+1}\"\n",
        "  value ={\n",
        "      'index':i,\n",
        "      'value':sliced_list[i]\n",
        "  }\n",
        "  my_dic[key]=value"
      ],
      "metadata": {
        "id": "oXoboBWxEs7F"
      },
      "execution_count": 26,
      "outputs": []
    },
    {
      "cell_type": "code",
      "source": [
        "my_dic"
      ],
      "metadata": {
        "colab": {
          "base_uri": "https://localhost:8080/"
        },
        "id": "vLVhEFSeE1pK",
        "outputId": "a6947bc2-6b7a-49a6-a939-1ac730f49b66"
      },
      "execution_count": 27,
      "outputs": [
        {
          "output_type": "execute_result",
          "data": {
            "text/plain": [
              "{'item1': {'index': 0, 'value': 100},\n",
              " 'item2': {'index': 1, 'value': 200},\n",
              " 'item3': {'index': 2, 'value': 300}}"
            ]
          },
          "metadata": {},
          "execution_count": 27
        }
      ]
    },
    {
      "cell_type": "code",
      "source": [
        "dic_com ={\n",
        "k:{\n",
        "    **v,\n",
        "    \"value_squared\": v[\"value\"]**2\n",
        "}\n",
        "for k,v in my_dic.items()\n",
        "}"
      ],
      "metadata": {
        "id": "vs4BvU5fE3AX"
      },
      "execution_count": 30,
      "outputs": []
    },
    {
      "cell_type": "code",
      "source": [
        "dic_com"
      ],
      "metadata": {
        "colab": {
          "base_uri": "https://localhost:8080/"
        },
        "id": "NkmJ1CHBFc0n",
        "outputId": "825bf09f-62e9-49d0-8ca6-6e04f48bd106"
      },
      "execution_count": 31,
      "outputs": [
        {
          "output_type": "execute_result",
          "data": {
            "text/plain": [
              "{'item1': {'index': 0, 'value': 100, 'value_squared': 10000},\n",
              " 'item2': {'index': 1, 'value': 200, 'value_squared': 40000},\n",
              " 'item3': {'index': 2, 'value': 300, 'value_squared': 90000}}"
            ]
          },
          "metadata": {},
          "execution_count": 31
        }
      ]
    },
    {
      "cell_type": "code",
      "source": [],
      "metadata": {
        "id": "HlrBiiu9FdwS"
      },
      "execution_count": null,
      "outputs": []
    }
  ]
}